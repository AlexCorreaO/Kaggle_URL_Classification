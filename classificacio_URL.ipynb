{
 "cells": [
  {
   "cell_type": "markdown",
   "id": "7ecbade6",
   "metadata": {},
   "source": [
    "### Àlex Correa Orri 1564967"
   ]
  },
  {
   "cell_type": "markdown",
   "id": "b7093714",
   "metadata": {},
   "source": [
    "#### Dataset: https://www.kaggle.com/shaurov/website-classification-using-url"
   ]
  },
  {
   "cell_type": "code",
   "execution_count": 33,
   "id": "95df2eb4",
   "metadata": {
    "scrolled": true
   },
   "outputs": [],
   "source": [
    "#reset()"
   ]
  },
  {
   "cell_type": "markdown",
   "id": "8769564d",
   "metadata": {},
   "source": [
    "### MÒDULS I LLIBRERIES"
   ]
  },
  {
   "cell_type": "code",
   "execution_count": 34,
   "id": "c5fc7bf5",
   "metadata": {},
   "outputs": [],
   "source": [
    "import pandas as pd\n",
    "import time\n",
    "import seaborn as sns\n",
    "import numpy as np\n",
    "from sklearn import linear_model\n",
    "from sklearn import metrics\n",
    "from sklearn.model_selection import train_test_split\n",
    "%matplotlib inline \n",
    "from sklearn.utils import shuffle\n",
    "import matplotlib.pyplot as plt\n",
    "from numpy import array\n",
    "from numpy import argmax\n",
    "from sklearn.preprocessing import LabelEncoder\n",
    "from sklearn.preprocessing import OneHotEncoder\n",
    "from sklearn.feature_extraction.text import TfidfVectorizer\n",
    "from sklearn.feature_extraction.text import TfidfTransformer\n",
    "from sklearn.metrics import precision_recall_fscore_support\n",
    "from sklearn.naive_bayes import MultinomialNB\n",
    "from sklearn.feature_extraction.text import CountVectorizer\n",
    "from sklearn.feature_selection import chi2\n",
    "from sklearn import tree\n",
    "from keras.models import Sequential\n",
    "from keras.layers.core import Dense, Activation\n",
    "from sklearn.pipeline import Pipeline\n",
    "from keras.utils import np_utils\n",
    "import re\n",
    "from keras.preprocessing import sequence\n",
    "from keras.preprocessing.text import one_hot\n",
    "from keras.preprocessing.text import text_to_word_sequence\n",
    "from sklearn.svm import LinearSVC\n",
    "from sklearn.linear_model import SGDClassifier\n",
    "from sklearn.metrics import classification_report\n",
    "from sklearn.metrics import confusion_matrix\n",
    "import warnings\n",
    "warnings.filterwarnings('ignore')\n",
    "import pickle\n",
    "import os\n",
    "from nltk.corpus import stopwords"
   ]
  },
  {
   "cell_type": "markdown",
   "id": "41a80f7f",
   "metadata": {},
   "source": [
    "### DIRECTORI DE TREBALL"
   ]
  },
  {
   "cell_type": "markdown",
   "id": "88d6e474",
   "metadata": {},
   "source": [
    "#### Cal modificar el directori on es troba el dataset en cas que no es trobi al mateix directori que aquest notebook"
   ]
  },
  {
   "cell_type": "code",
   "execution_count": 35,
   "id": "3e3815ad",
   "metadata": {},
   "outputs": [
    {
     "data": {
      "text/plain": [
       "'C:\\\\Users\\\\alexc\\\\OneDrive\\\\Escritorio\\\\UNI\\\\3er\\\\Aprenentatge Computacional\\\\PRAC_KAGGLE'"
      ]
     },
     "execution_count": 35,
     "metadata": {},
     "output_type": "execute_result"
    }
   ],
   "source": [
    "os.getcwd()\n",
    "#path = 'C:/Users/alexc/OneDrive/Escritorio/UNI/3er/Aprenentatge Computacional/PRAC_KAGGLE'\n",
    "#os.chdir(path)\n",
    "#os.getcwd()"
   ]
  },
  {
   "cell_type": "markdown",
   "id": "295c0b19",
   "metadata": {},
   "source": [
    "### LECTURA DE DADES"
   ]
  },
  {
   "cell_type": "code",
   "execution_count": 36,
   "id": "c10877a5",
   "metadata": {},
   "outputs": [],
   "source": [
    "dataset = pd.read_csv('URL_Classification.csv', names=['n', 'url', 'class'], delimiter=',', na_filter=False)"
   ]
  },
  {
   "cell_type": "markdown",
   "id": "2f3eebfe",
   "metadata": {},
   "source": [
    "### DATASET I MOTIVACIÓ"
   ]
  },
  {
   "cell_type": "markdown",
   "id": "894b901b",
   "metadata": {},
   "source": [
    "#### Dataset que conté 1.6M d'enllaços, cadascún d'ells té assignada a una categoria ('class'). L'objectiu del treball és predir a quina categoria pertany un enllaç o un conjunt d'enllaços donat amb la màxima precisió possible.\n",
    "#### La classificació de url pot ser molt útil en els següents camps:\n",
    "- Control parental\n",
    "- Control d'accès desde un servidor\n",
    "- Bloqueig de direccions desde un router\n",
    "- Bloqueig d'amenaces / Antivirus\n",
    "- Control i detecció d'anuncis o spam\n",
    "- Classificació automàtica de notícies\n"
   ]
  },
  {
   "cell_type": "code",
   "execution_count": 37,
   "id": "2f332a1b",
   "metadata": {
    "scrolled": true
   },
   "outputs": [
    {
     "data": {
      "text/html": [
       "<div>\n",
       "<style scoped>\n",
       "    .dataframe tbody tr th:only-of-type {\n",
       "        vertical-align: middle;\n",
       "    }\n",
       "\n",
       "    .dataframe tbody tr th {\n",
       "        vertical-align: top;\n",
       "    }\n",
       "\n",
       "    .dataframe thead th {\n",
       "        text-align: right;\n",
       "    }\n",
       "</style>\n",
       "<table border=\"1\" class=\"dataframe\">\n",
       "  <thead>\n",
       "    <tr style=\"text-align: right;\">\n",
       "      <th></th>\n",
       "      <th>n</th>\n",
       "      <th>url</th>\n",
       "      <th>class</th>\n",
       "    </tr>\n",
       "  </thead>\n",
       "  <tbody>\n",
       "    <tr>\n",
       "      <th>0</th>\n",
       "      <td>1</td>\n",
       "      <td>http://www.liquidgeneration.com/</td>\n",
       "      <td>Adult</td>\n",
       "    </tr>\n",
       "    <tr>\n",
       "      <th>1</th>\n",
       "      <td>2</td>\n",
       "      <td>http://www.onlineanime.org/</td>\n",
       "      <td>Adult</td>\n",
       "    </tr>\n",
       "    <tr>\n",
       "      <th>2</th>\n",
       "      <td>3</td>\n",
       "      <td>http://www.ceres.dti.ne.jp/~nekoi/senno/senfir...</td>\n",
       "      <td>Adult</td>\n",
       "    </tr>\n",
       "    <tr>\n",
       "      <th>3</th>\n",
       "      <td>4</td>\n",
       "      <td>http://www.galeon.com/kmh/</td>\n",
       "      <td>Adult</td>\n",
       "    </tr>\n",
       "    <tr>\n",
       "      <th>4</th>\n",
       "      <td>5</td>\n",
       "      <td>http://www.fanworkrecs.com/</td>\n",
       "      <td>Adult</td>\n",
       "    </tr>\n",
       "    <tr>\n",
       "      <th>...</th>\n",
       "      <td>...</td>\n",
       "      <td>...</td>\n",
       "      <td>...</td>\n",
       "    </tr>\n",
       "    <tr>\n",
       "      <th>1562973</th>\n",
       "      <td>1562974</td>\n",
       "      <td>http://www.maxpreps.com/</td>\n",
       "      <td>Sports</td>\n",
       "    </tr>\n",
       "    <tr>\n",
       "      <th>1562974</th>\n",
       "      <td>1562975</td>\n",
       "      <td>http://www.myscore.com/</td>\n",
       "      <td>Sports</td>\n",
       "    </tr>\n",
       "    <tr>\n",
       "      <th>1562975</th>\n",
       "      <td>1562976</td>\n",
       "      <td>http://sportsillustrated.cnn.com/highschool</td>\n",
       "      <td>Sports</td>\n",
       "    </tr>\n",
       "    <tr>\n",
       "      <th>1562976</th>\n",
       "      <td>1562977</td>\n",
       "      <td>http://rss.cnn.com/rss/si_highschool?format=xml</td>\n",
       "      <td>Sports</td>\n",
       "    </tr>\n",
       "    <tr>\n",
       "      <th>1562977</th>\n",
       "      <td>1562978</td>\n",
       "      <td>http://www.usatoday.com/sports/preps/</td>\n",
       "      <td>Sports</td>\n",
       "    </tr>\n",
       "  </tbody>\n",
       "</table>\n",
       "<p>1562978 rows × 3 columns</p>\n",
       "</div>"
      ],
      "text/plain": [
       "               n                                                url   class\n",
       "0              1                   http://www.liquidgeneration.com/   Adult\n",
       "1              2                        http://www.onlineanime.org/   Adult\n",
       "2              3  http://www.ceres.dti.ne.jp/~nekoi/senno/senfir...   Adult\n",
       "3              4                         http://www.galeon.com/kmh/   Adult\n",
       "4              5                        http://www.fanworkrecs.com/   Adult\n",
       "...          ...                                                ...     ...\n",
       "1562973  1562974                           http://www.maxpreps.com/  Sports\n",
       "1562974  1562975                            http://www.myscore.com/  Sports\n",
       "1562975  1562976        http://sportsillustrated.cnn.com/highschool  Sports\n",
       "1562976  1562977    http://rss.cnn.com/rss/si_highschool?format=xml  Sports\n",
       "1562977  1562978              http://www.usatoday.com/sports/preps/  Sports\n",
       "\n",
       "[1562978 rows x 3 columns]"
      ]
     },
     "execution_count": 37,
     "metadata": {},
     "output_type": "execute_result"
    }
   ],
   "source": [
    "dataset"
   ]
  },
  {
   "cell_type": "code",
   "execution_count": 38,
   "id": "e5bb0ed3",
   "metadata": {},
   "outputs": [
    {
     "name": "stdout",
     "output_type": "stream",
     "text": [
      "['Adult' 'Arts' 'Business' 'Computers' 'Games' 'Health' 'Home' 'Kids'\n",
      " 'News' 'Recreation' 'Reference' 'Science' 'Shopping' 'Society' 'Sports']\n"
     ]
    },
    {
     "data": {
      "text/plain": [
       "15"
      ]
     },
     "execution_count": 38,
     "metadata": {},
     "output_type": "execute_result"
    }
   ],
   "source": [
    "print(dataset['class'].unique())\n",
    "len(dataset['class'].unique())"
   ]
  },
  {
   "cell_type": "code",
   "execution_count": 39,
   "id": "6b94fe0f",
   "metadata": {
    "scrolled": false
   },
   "outputs": [
    {
     "data": {
      "text/plain": [
       "<AxesSubplot:>"
      ]
     },
     "execution_count": 39,
     "metadata": {},
     "output_type": "execute_result"
    },
    {
     "data": {
      "image/png": "[encoded data removed]",
      "text/plain": [
       "<Figure size 864x360 with 1 Axes>"
      ]
     },
     "metadata": {
      "needs_background": "light"
     },
     "output_type": "display_data"
    }
   ],
   "source": [
    "dataset['class'].value_counts().plot(figsize=(12, 5),kind='bar')"
   ]
  },
  {
   "cell_type": "markdown",
   "id": "6369741c",
   "metadata": {},
   "source": [
    "#### El dataset conté 15 categories diferents:\n",
    "- Adult\n",
    "- Arts\n",
    "- Business\n",
    "- Computers\n",
    "- Games\n",
    "- Health\n",
    "- Home\n",
    "- Kids\n",
    "- News\n",
    "- Recreation\n",
    "- Reference\n",
    "- Science\n",
    "- Shopping\n",
    "- Society\n",
    "- Sports"
   ]
  },
  {
   "cell_type": "markdown",
   "id": "40f48377",
   "metadata": {},
   "source": [
    "### MODIFICACIÓ DEL DATASET"
   ]
  },
  {
   "cell_type": "markdown",
   "id": "82b600b0",
   "metadata": {},
   "source": [
    "#### Eliminar possibles valor NAN del dataset"
   ]
  },
  {
   "cell_type": "code",
   "execution_count": 40,
   "id": "3d8f9920",
   "metadata": {},
   "outputs": [],
   "source": [
    "dataset=dataset.dropna()"
   ]
  },
  {
   "cell_type": "markdown",
   "id": "34193a44",
   "metadata": {},
   "source": [
    "#### Per fer proves més ràpides es pot reduir el dataset a s 'samples' (descomentar següents comandes)"
   ]
  },
  {
   "cell_type": "code",
   "execution_count": 41,
   "id": "023f015e",
   "metadata": {},
   "outputs": [],
   "source": [
    "#s=50000\n",
    "#dataset = dataset.sample(n=s, random_state=10)"
   ]
  },
  {
   "cell_type": "markdown",
   "id": "9c281ad3",
   "metadata": {},
   "source": [
    "#### Consulta sobre quines són les paraules més comunes del dataset"
   ]
  },
  {
   "cell_type": "code",
   "execution_count": 42,
   "id": "753293c6",
   "metadata": {},
   "outputs": [],
   "source": [
    "urls=''\n",
    "for url in dataset['url']:\n",
    "    urls += url\n",
    "#urls: text concatenat amb tots els strings (sense espais)"
   ]
  },
  {
   "cell_type": "code",
   "execution_count": 43,
   "id": "08c73202",
   "metadata": {},
   "outputs": [
    {
     "data": {
      "text/html": [
       "<div>\n",
       "<style scoped>\n",
       "    .dataframe tbody tr th:only-of-type {\n",
       "        vertical-align: middle;\n",
       "    }\n",
       "\n",
       "    .dataframe tbody tr th {\n",
       "        vertical-align: top;\n",
       "    }\n",
       "\n",
       "    .dataframe thead th {\n",
       "        text-align: right;\n",
       "    }\n",
       "</style>\n",
       "<table border=\"1\" class=\"dataframe\">\n",
       "  <thead>\n",
       "    <tr style=\"text-align: right;\">\n",
       "      <th></th>\n",
       "      <th>00</th>\n",
       "      <th>000</th>\n",
       "      <th>0000</th>\n",
       "      <th>000000</th>\n",
       "      <th>0000000000000000039176http</th>\n",
       "      <th>0000000000000000044918http</th>\n",
       "      <th>00000000002000000003470010http</th>\n",
       "      <th>0000000023http</th>\n",
       "      <th>0000000045http</th>\n",
       "      <th>0000000053ad</th>\n",
       "      <th>...</th>\n",
       "      <th>zzzfelis</th>\n",
       "      <th>zzzgeminiclubsa</th>\n",
       "      <th>zzzlocalsites</th>\n",
       "      <th>zzzptm</th>\n",
       "      <th>zzzsen9ya7c</th>\n",
       "      <th>zzzuzruzglc</th>\n",
       "      <th>zzzv7313hlc</th>\n",
       "      <th>zzzweb</th>\n",
       "      <th>zzzwnppl</th>\n",
       "      <th>zzzzphoecolontradeposts</th>\n",
       "    </tr>\n",
       "  </thead>\n",
       "  <tbody>\n",
       "    <tr>\n",
       "      <th>0</th>\n",
       "      <td>682</td>\n",
       "      <td>69</td>\n",
       "      <td>11</td>\n",
       "      <td>1</td>\n",
       "      <td>1</td>\n",
       "      <td>1</td>\n",
       "      <td>1</td>\n",
       "      <td>1</td>\n",
       "      <td>1</td>\n",
       "      <td>1</td>\n",
       "      <td>...</td>\n",
       "      <td>1</td>\n",
       "      <td>1</td>\n",
       "      <td>3</td>\n",
       "      <td>2</td>\n",
       "      <td>1</td>\n",
       "      <td>1</td>\n",
       "      <td>1</td>\n",
       "      <td>1</td>\n",
       "      <td>1</td>\n",
       "      <td>1</td>\n",
       "    </tr>\n",
       "  </tbody>\n",
       "</table>\n",
       "<p>1 rows × 1298570 columns</p>\n",
       "</div>"
      ],
      "text/plain": [
       "    00  000  0000  000000  0000000000000000039176http  \\\n",
       "0  682   69    11       1                           1   \n",
       "\n",
       "   0000000000000000044918http  00000000002000000003470010http  0000000023http  \\\n",
       "0                           1                               1               1   \n",
       "\n",
       "   0000000045http  0000000053ad  ...  zzzfelis  zzzgeminiclubsa  \\\n",
       "0               1             1  ...         1                1   \n",
       "\n",
       "   zzzlocalsites  zzzptm  zzzsen9ya7c  zzzuzruzglc  zzzv7313hlc  zzzweb  \\\n",
       "0              3       2            1            1            1       1   \n",
       "\n",
       "   zzzwnppl  zzzzphoecolontradeposts  \n",
       "0         1                        1  \n",
       "\n",
       "[1 rows x 1298570 columns]"
      ]
     },
     "execution_count": 43,
     "metadata": {},
     "output_type": "execute_result"
    }
   ],
   "source": [
    "vect = CountVectorizer()\n",
    "mat = vect.fit_transform([urls])\n",
    "counts = pd.DataFrame(mat.toarray(), columns=vect.get_feature_names())\n",
    "counts #pandas dataframe amb els valors de les paraules més comunes al string"
   ]
  },
  {
   "cell_type": "markdown",
   "id": "4aa262d3",
   "metadata": {},
   "source": [
    "#### Ngrames més comuns ordenats segons el nombre d'aparicions al dataset"
   ]
  },
  {
   "cell_type": "code",
   "execution_count": 44,
   "id": "17724add",
   "metadata": {},
   "outputs": [
    {
     "data": {
      "text/html": [
       "<div>\n",
       "<style scoped>\n",
       "    .dataframe tbody tr th:only-of-type {\n",
       "        vertical-align: middle;\n",
       "    }\n",
       "\n",
       "    .dataframe tbody tr th {\n",
       "        vertical-align: top;\n",
       "    }\n",
       "\n",
       "    .dataframe thead th {\n",
       "        text-align: right;\n",
       "    }\n",
       "</style>\n",
       "<table border=\"1\" class=\"dataframe\">\n",
       "  <thead>\n",
       "    <tr style=\"text-align: right;\">\n",
       "      <th></th>\n",
       "      <th>www</th>\n",
       "      <th>http</th>\n",
       "      <th>com</th>\n",
       "      <th>comhttp</th>\n",
       "      <th>org</th>\n",
       "      <th>htmlhttp</th>\n",
       "      <th>htmhttp</th>\n",
       "      <th>edu</th>\n",
       "      <th>co</th>\n",
       "      <th>uk</th>\n",
       "      <th>...</th>\n",
       "      <th>newyorksurveyrepair</th>\n",
       "      <th>newyorktattoo</th>\n",
       "      <th>newyorkvideoconference</th>\n",
       "      <th>newyorktwistdrill</th>\n",
       "      <th>newyorkultimate</th>\n",
       "      <th>newyorkultrarunning</th>\n",
       "      <th>newyorkun</th>\n",
       "      <th>newyorkunicycle</th>\n",
       "      <th>newyorkvideo</th>\n",
       "      <th>jumpinghfarm</th>\n",
       "    </tr>\n",
       "  </thead>\n",
       "  <tbody>\n",
       "    <tr>\n",
       "      <th>0</th>\n",
       "      <td>1255832</td>\n",
       "      <td>860869</td>\n",
       "      <td>780805</td>\n",
       "      <td>191765</td>\n",
       "      <td>185544</td>\n",
       "      <td>171948</td>\n",
       "      <td>113603</td>\n",
       "      <td>86651</td>\n",
       "      <td>71265</td>\n",
       "      <td>69722</td>\n",
       "      <td>...</td>\n",
       "      <td>1</td>\n",
       "      <td>1</td>\n",
       "      <td>1</td>\n",
       "      <td>1</td>\n",
       "      <td>1</td>\n",
       "      <td>1</td>\n",
       "      <td>1</td>\n",
       "      <td>1</td>\n",
       "      <td>1</td>\n",
       "      <td>1</td>\n",
       "    </tr>\n",
       "  </tbody>\n",
       "</table>\n",
       "<p>1 rows × 1298570 columns</p>\n",
       "</div>"
      ],
      "text/plain": [
       "       www    http     com  comhttp     org  htmlhttp  htmhttp    edu     co  \\\n",
       "0  1255832  860869  780805   191765  185544    171948   113603  86651  71265   \n",
       "\n",
       "      uk  ...  newyorksurveyrepair  newyorktattoo  newyorkvideoconference  \\\n",
       "0  69722  ...                    1              1                       1   \n",
       "\n",
       "   newyorktwistdrill  newyorkultimate  newyorkultrarunning  newyorkun  \\\n",
       "0                  1                1                    1          1   \n",
       "\n",
       "   newyorkunicycle  newyorkvideo  jumpinghfarm  \n",
       "0                1             1             1  \n",
       "\n",
       "[1 rows x 1298570 columns]"
      ]
     },
     "execution_count": 44,
     "metadata": {},
     "output_type": "execute_result"
    }
   ],
   "source": [
    "sort_counts = counts.sort_values(by =0, axis=1)\n",
    "sort_counts = sort_counts[sort_counts.columns[::-1]]\n",
    "sort_counts #dataframe ordenat per la paraula més comuna"
   ]
  },
  {
   "cell_type": "markdown",
   "id": "525823b4",
   "metadata": {},
   "source": [
    "#### Com era d'esperar les 'paraules' o ngrames més comuns contenen el terme http, com, co, net, org, etc."
   ]
  },
  {
   "cell_type": "code",
   "execution_count": 45,
   "id": "b3797293",
   "metadata": {},
   "outputs": [
    {
     "data": {
      "text/plain": [
       "Index(['www', 'http', 'com', 'comhttp', 'org', 'htmlhttp', 'htmhttp', 'edu',\n",
       "       'co', 'uk', 'net', 'geocities', 'index', 'amp', 'orghttp', 'ca',\n",
       "       'tripod', 'angelfire', 'au', 'ukhttp'],\n",
       "      dtype='object')"
      ]
     },
     "execution_count": 45,
     "metadata": {},
     "output_type": "execute_result"
    }
   ],
   "source": [
    "sort_counts.iloc[:, : 20].columns"
   ]
  },
  {
   "cell_type": "markdown",
   "id": "2a82867f",
   "metadata": {},
   "source": [
    "#### Llista de termes que a priori sembla que no tinguin rellevància amb la categoria de l'enllaç. Es provarà d'eliminar-ho dels url o utilitzar-ho de 'stopwords' pel countvectorizer"
   ]
  },
  {
   "cell_type": "code",
   "execution_count": 46,
   "id": "afe9230b",
   "metadata": {},
   "outputs": [],
   "source": [
    "stp_w = ['www', 'http', 'com', 'comhttp', 'org', 'htmlhttp', 'htmhttp', 'edu', 'co', 'uk', 'net', 'orghttp','html','nethttp','shtmlhttp', 'ukhttp','dehttp','zahttp','jpghttp']"
   ]
  },
  {
   "cell_type": "markdown",
   "id": "7f991419",
   "metadata": {},
   "source": [
    "### SEPARACIÓ TRAIN - TEST\n",
    "\n",
    "#### Per evitar problemes és millor definir la mida de dades que hi haurà per cada classe al dataset de test."
   ]
  },
  {
   "cell_type": "code",
   "execution_count": 47,
   "id": "4ccf2101",
   "metadata": {},
   "outputs": [],
   "source": [
    "test_data = []\n",
    "fraction_sample = 0.05\n",
    "size_per_class = round(dataset.shape[0]*fraction_sample/15)\n",
    "for c in dataset['class'].unique():\n",
    "    test_data.append(dataset[dataset['class'] == c][0:size_per_class])\n",
    "test_data = pd.concat([test_data[0], test_data[1],test_data[2],test_data[3],test_data[4],test_data[5], test_data[6],test_data[7],test_data[8],test_data[9],test_data[10], test_data[11],test_data[12],test_data[13],test_data[14]], axis=0)"
   ]
  },
  {
   "cell_type": "markdown",
   "id": "26ddcbfd",
   "metadata": {},
   "source": [
    "#### Guardem el dataset de test"
   ]
  },
  {
   "cell_type": "code",
   "execution_count": 48,
   "id": "00d1678b",
   "metadata": {},
   "outputs": [],
   "source": [
    "test_data.to_csv('test_data.csv', index=False)"
   ]
  },
  {
   "cell_type": "markdown",
   "id": "39c6a7d8",
   "metadata": {},
   "source": [
    "#### Eliminar del dataset original les mostres de test"
   ]
  },
  {
   "cell_type": "code",
   "execution_count": 49,
   "id": "8366de4f",
   "metadata": {},
   "outputs": [],
   "source": [
    "for c in dataset['class'].unique():\n",
    "    f_i = dataset[dataset['class'] == c].index[0]\n",
    "    l_i = f_i + size_per_class - 1\n",
    "    dataset.drop(dataset.index[f_i:l_i],inplace= True)\n",
    "train_data = dataset"
   ]
  },
  {
   "cell_type": "markdown",
   "id": "d282d814",
   "metadata": {},
   "source": [
    "#### Quantitat de dades d'entrenament per cada classe, mantenint la proporció del dataset original"
   ]
  },
  {
   "cell_type": "code",
   "execution_count": 50,
   "id": "fc573c0f",
   "metadata": {
    "scrolled": true
   },
   "outputs": [
    {
     "data": {
      "image/png": "[encoded data removed]",
      "text/plain": [
       "<Figure size 432x288 with 1 Axes>"
      ]
     },
     "metadata": {
      "needs_background": "light"
     },
     "output_type": "display_data"
    }
   ],
   "source": [
    "ax = sns.countplot(y = \"class\",  data = train_data)"
   ]
  },
  {
   "cell_type": "code",
   "execution_count": 51,
   "id": "0b6afff6",
   "metadata": {},
   "outputs": [
    {
     "data": {
      "text/html": [
       "<div>\n",
       "<style scoped>\n",
       "    .dataframe tbody tr th:only-of-type {\n",
       "        vertical-align: middle;\n",
       "    }\n",
       "\n",
       "    .dataframe tbody tr th {\n",
       "        vertical-align: top;\n",
       "    }\n",
       "\n",
       "    .dataframe thead th {\n",
       "        text-align: right;\n",
       "    }\n",
       "</style>\n",
       "<table border=\"1\" class=\"dataframe\">\n",
       "  <thead>\n",
       "    <tr style=\"text-align: right;\">\n",
       "      <th></th>\n",
       "      <th>url</th>\n",
       "    </tr>\n",
       "    <tr>\n",
       "      <th>class</th>\n",
       "      <th></th>\n",
       "    </tr>\n",
       "  </thead>\n",
       "  <tbody>\n",
       "    <tr>\n",
       "      <th>Adult</th>\n",
       "      <td>30116</td>\n",
       "    </tr>\n",
       "    <tr>\n",
       "      <th>Arts</th>\n",
       "      <td>248631</td>\n",
       "    </tr>\n",
       "    <tr>\n",
       "      <th>Business</th>\n",
       "      <td>234968</td>\n",
       "    </tr>\n",
       "    <tr>\n",
       "      <th>Computers</th>\n",
       "      <td>112753</td>\n",
       "    </tr>\n",
       "    <tr>\n",
       "      <th>Games</th>\n",
       "      <td>51268</td>\n",
       "    </tr>\n",
       "    <tr>\n",
       "      <th>Health</th>\n",
       "      <td>54888</td>\n",
       "    </tr>\n",
       "    <tr>\n",
       "      <th>Home</th>\n",
       "      <td>28269</td>\n",
       "    </tr>\n",
       "    <tr>\n",
       "      <th>Kids</th>\n",
       "      <td>35764</td>\n",
       "    </tr>\n",
       "    <tr>\n",
       "      <th>News</th>\n",
       "      <td>8989</td>\n",
       "    </tr>\n",
       "    <tr>\n",
       "      <th>Recreation</th>\n",
       "      <td>96168</td>\n",
       "    </tr>\n",
       "    <tr>\n",
       "      <th>Reference</th>\n",
       "      <td>53038</td>\n",
       "    </tr>\n",
       "    <tr>\n",
       "      <th>Science</th>\n",
       "      <td>105077</td>\n",
       "    </tr>\n",
       "    <tr>\n",
       "      <th>Shopping</th>\n",
       "      <td>90061</td>\n",
       "    </tr>\n",
       "    <tr>\n",
       "      <th>Society</th>\n",
       "      <td>238734</td>\n",
       "    </tr>\n",
       "    <tr>\n",
       "      <th>Sports</th>\n",
       "      <td>96119</td>\n",
       "    </tr>\n",
       "  </tbody>\n",
       "</table>\n",
       "</div>"
      ],
      "text/plain": [
       "               url\n",
       "class             \n",
       "Adult        30116\n",
       "Arts        248631\n",
       "Business    234968\n",
       "Computers   112753\n",
       "Games        51268\n",
       "Health       54888\n",
       "Home         28269\n",
       "Kids         35764\n",
       "News          8989\n",
       "Recreation   96168\n",
       "Reference    53038\n",
       "Science     105077\n",
       "Shopping     90061\n",
       "Society     238734\n",
       "Sports       96119"
      ]
     },
     "execution_count": 51,
     "metadata": {},
     "output_type": "execute_result"
    }
   ],
   "source": [
    "train_data.set_index(['class', 'n']).count(level=\"class\")"
   ]
  },
  {
   "cell_type": "markdown",
   "id": "bb820220",
   "metadata": {},
   "source": [
    "#### Quantitat de dades de test per cada classe"
   ]
  },
  {
   "cell_type": "code",
   "execution_count": 52,
   "id": "1a81452c",
   "metadata": {
    "scrolled": false
   },
   "outputs": [
    {
     "data": {
      "image/png": "[encoded data removed]",
      "text/plain": [
       "<Figure size 432x288 with 1 Axes>"
      ]
     },
     "metadata": {
      "needs_background": "light"
     },
     "output_type": "display_data"
    }
   ],
   "source": [
    "ax = sns.countplot(y = \"class\",  data = test_data, palette='cool')"
   ]
  },
  {
   "cell_type": "markdown",
   "id": "09b29fbd",
   "metadata": {},
   "source": [
    "#### Separació X i y als dos datasets (test i entrenament)\n",
    "\n",
    "#### Si es vol reduir la mida d'entrenament i/o del test es pot fer descomentant la comanda que fa el 'train_test_split'. D'aquesta manera també es triarà un dataset diferent en cada execució. Amb el paràmetre stratify es mantindran les proporcions de classes a cada dataset."
   ]
  },
  {
   "cell_type": "code",
   "execution_count": 53,
   "id": "68a7c04f",
   "metadata": {},
   "outputs": [],
   "source": [
    "X_train=train_data['url']\n",
    "y_train=train_data['class']\n",
    "#X_train, x_v, y_train, y_v = train_test_split(X_train, y_train, train_size=0.95, stratify=y_train)"
   ]
  },
  {
   "cell_type": "code",
   "execution_count": 54,
   "id": "cbab4655",
   "metadata": {},
   "outputs": [],
   "source": [
    "X_test=test_data['url']\n",
    "y_test=test_data['class']\n",
    "#X_test, x_v, y_test, y_v = train_test_split(X_test, y_test, train_size=0.95, stratify=y_test)"
   ]
  },
  {
   "cell_type": "markdown",
   "id": "35911646",
   "metadata": {},
   "source": [
    "### CONSTRUCCIÓ DEL MODEL\n",
    "\n",
    "#### Pipeline Multinomial\n",
    "\n",
    "- CountVectorizer: crea una matriu (sparse matrix) on les columnes són les paraules (o ngrames) trobades per cada enllaç (cada fila).\n",
    "- TfidfTransformer: Transforma una 'count matrix' a una representació normalitzada tf o tf-idf. Tf:'term-frequency'; Tf-idf: 'term-frequency times inverse document-frequency'\n",
    "- MultinomialNB: 'Multinomial Naive Bayes'. Segons sklearn, 'The multinomial Naive Bayes classifier is suitable for classification with discrete features (e.g., word counts for text classification)'\n",
    "https://scikit-learn.org/stable/modules/naive_bayes.html#multinomial-naive-bayes\n",
    "\n",
    "#### La següent configuració d'hiperparàmetres és la que millor resultats ha donat"
   ]
  },
  {
   "cell_type": "code",
   "execution_count": 55,
   "id": "40a5cb9a",
   "metadata": {
    "scrolled": true
   },
   "outputs": [],
   "source": [
    "vectorizer = CountVectorizer(ngram_range=(3,3))\n",
    "clf = Pipeline([('vect', vectorizer), \n",
    "                   ('tfidf', TfidfTransformer()),\n",
    "                   ('clf', MultinomialNB(fit_prior=False, alpha = 0.0)),#0.0001\n",
    "                  ])\n",
    "#stop_words=stopwords.words('english'), "
   ]
  },
  {
   "cell_type": "markdown",
   "id": "cf906607",
   "metadata": {},
   "source": [
    "#### Entrenament"
   ]
  },
  {
   "cell_type": "code",
   "execution_count": 56,
   "id": "7381e71a",
   "metadata": {},
   "outputs": [
    {
     "name": "stdout",
     "output_type": "stream",
     "text": [
      "L'entrenament ha acabat satisfactòriament en 44.70955276489258s\n"
     ]
    }
   ],
   "source": [
    "ti = time.time()\n",
    "clf = clf.fit(X_train, y_train)\n",
    "tf = time.time()\n",
    "print(\"L'entrenament ha acabat satisfactòriament en \"+str(tf-ti)+\"s\")"
   ]
  },
  {
   "cell_type": "markdown",
   "id": "3fd93388",
   "metadata": {},
   "source": [
    "#### Guardem el model entrenat"
   ]
  },
  {
   "cell_type": "code",
   "execution_count": 57,
   "id": "119ef422",
   "metadata": {},
   "outputs": [],
   "source": [
    "filename = 'multinomialNB_trained.sav'\n",
    "pickle.dump(clf, open(filename, 'wb'))"
   ]
  },
  {
   "cell_type": "markdown",
   "id": "1bb4b18a",
   "metadata": {},
   "source": [
    "#### Classificació i precisió del test"
   ]
  },
  {
   "cell_type": "code",
   "execution_count": 58,
   "id": "cb62b992",
   "metadata": {
    "scrolled": true
   },
   "outputs": [
    {
     "data": {
      "text/plain": [
       "(0.9467388489931214, 0.9385924504158669, 0.9357772227941135, None)"
      ]
     },
     "execution_count": 58,
     "metadata": {},
     "output_type": "execute_result"
    }
   ],
   "source": [
    "y_pred=clf.predict(X_test)\n",
    "precision_recall_fscore_support(y_test, y_pred, average='weighted')"
   ]
  },
  {
   "cell_type": "markdown",
   "id": "961bb195",
   "metadata": {},
   "source": [
    "#### Precisió de la classificació de cada classe"
   ]
  },
  {
   "cell_type": "code",
   "execution_count": 59,
   "id": "14a5347f",
   "metadata": {
    "scrolled": false
   },
   "outputs": [
    {
     "name": "stdout",
     "output_type": "stream",
     "text": [
      "              precision    recall  f1-score   support\n",
      "\n",
      "       Adult    0.98263   0.71651   0.82873      5210\n",
      "        Arts    0.88083   0.99021   0.93232      5210\n",
      "    Business    0.98783   0.98177   0.98479      5210\n",
      "   Computers    0.97597   0.95106   0.96335      5210\n",
      "       Games    0.70267   0.99655   0.82419      5210\n",
      "      Health    0.99026   0.99501   0.99263      5210\n",
      "        Home    0.96960   0.99789   0.98354      5210\n",
      "        Kids    0.94195   0.55125   0.69548      5210\n",
      "        News    0.98761   0.99482   0.99120      5210\n",
      "  Recreation    0.89897   0.98887   0.94178      5210\n",
      "   Reference    0.95260   0.97985   0.96603      5210\n",
      "     Science    0.96743   0.96929   0.96836      5210\n",
      "    Shopping    0.98856   0.99520   0.99187      5210\n",
      "     Society    0.98258   0.97409   0.97831      5210\n",
      "      Sports    0.99160   0.99655   0.99406      5210\n",
      "\n",
      "    accuracy                        0.93859     78150\n",
      "   macro avg    0.94674   0.93859   0.93578     78150\n",
      "weighted avg    0.94674   0.93859   0.93578     78150\n",
      "\n"
     ]
    }
   ],
   "source": [
    "print(classification_report(y_test, y_pred, digits = 5))"
   ]
  },
  {
   "cell_type": "markdown",
   "id": "8848d9b0",
   "metadata": {},
   "source": [
    "#### Heatmap de probabilitats entre la classificació real i la predicció"
   ]
  },
  {
   "cell_type": "code",
   "execution_count": 60,
   "id": "cf84229e",
   "metadata": {
    "scrolled": true
   },
   "outputs": [
    {
     "data": {
      "text/plain": [
       "Text(114.0, 0.5, 'Test/real')"
      ]
     },
     "execution_count": 60,
     "metadata": {},
     "output_type": "execute_result"
    },
    {
     "data": {
      "image/png": "[encoded data removed]",
      "text/plain": [
       "<Figure size 1080x576 with 2 Axes>"
      ]
     },
     "metadata": {
      "needs_background": "light"
     },
     "output_type": "display_data"
    }
   ],
   "source": [
    "mat = confusion_matrix(y_test, y_pred)\n",
    "df_cm = pd.DataFrame(mat, index = [i for i in dataset['class'].unique()],\n",
    "                  columns = [i for i in dataset['class'].unique()])\n",
    "plt.figure(figsize = (15,8))\n",
    "sns.heatmap(df_cm/np.sum(df_cm), annot=True, fmt='.3%')\n",
    "plt.xlabel('Predicció')\n",
    "plt.ylabel('Test/real')"
   ]
  },
  {
   "cell_type": "code",
   "execution_count": null,
   "id": "e8977835",
   "metadata": {},
   "outputs": [],
   "source": []
  },
  {
   "cell_type": "markdown",
   "id": "3cb9b8a8",
   "metadata": {},
   "source": [
    "### CERCA D'HIPERPARÀMETRES"
   ]
  },
  {
   "cell_type": "markdown",
   "id": "06efe11e",
   "metadata": {},
   "source": [
    "- CountVectorizer: ngram_range"
   ]
  },
  {
   "cell_type": "code",
   "execution_count": 27,
   "id": "108bcb64",
   "metadata": {},
   "outputs": [
    {
     "name": "stdout",
     "output_type": "stream",
     "text": [
      "[0.8646945870286215, 0.9186687953556945, 0.9467388489931214, 0.9263849014471519, 0.8932728733007393]\n"
     ]
    }
   ],
   "source": [
    "precision_r = []\n",
    "for n1 in range(5):\n",
    "    vectorizer = CountVectorizer(ngram_range=(n1+1,n1+1))\n",
    "    clf = Pipeline([('vect', vectorizer), \n",
    "                       ('tfidf', TfidfTransformer()),\n",
    "                       ('clf', MultinomialNB(fit_prior=False, alpha = 0.0)),#0.0001\n",
    "                      ])\n",
    "    clf = clf.fit(X_train, y_train)\n",
    "    y_pred=clf.predict(X_test)\n",
    "    precision_r.append(precision_recall_fscore_support(y_test, y_pred, average='weighted')[0])\n",
    "print(precision_r)"
   ]
  },
  {
   "cell_type": "code",
   "execution_count": 28,
   "id": "88adbd30",
   "metadata": {},
   "outputs": [
    {
     "name": "stdout",
     "output_type": "stream",
     "text": [
      "[0.8646945870286215, 0.9152443796069334, 0.9186640072127995, 0.9194048609987454, 0.9200380866288079, 0.9203854697981215, 0.9204730086474893]\n"
     ]
    }
   ],
   "source": [
    "precision_r = []\n",
    "for n1 in range(7):\n",
    "    vectorizer = CountVectorizer(ngram_range=(1,n1+1))\n",
    "    clf = Pipeline([('vect', vectorizer), \n",
    "                       ('tfidf', TfidfTransformer()),\n",
    "                       ('clf', MultinomialNB(fit_prior=False, alpha = 0.0)),#0.0001\n",
    "                      ])\n",
    "    clf = clf.fit(X_train, y_train)\n",
    "    y_pred=clf.predict(X_test)\n",
    "    precision_r.append(precision_recall_fscore_support(y_test, y_pred, average='weighted')[0])\n",
    "print(precision_r)"
   ]
  },
  {
   "cell_type": "markdown",
   "id": "81ef5f13",
   "metadata": {},
   "source": [
    "- CountVectorizer: stop_words"
   ]
  },
  {
   "cell_type": "code",
   "execution_count": 29,
   "id": "d663fdc5",
   "metadata": {},
   "outputs": [
    {
     "name": "stdout",
     "output_type": "stream",
     "text": [
      "[0.9455378492814203, 0.8783017438250544, 0.9467388489931214]\n"
     ]
    }
   ],
   "source": [
    "precision_r = []\n",
    "for stp in ['english', stp_w, None]:\n",
    "    vectorizer = CountVectorizer(stop_words=stp,ngram_range=(3,3))\n",
    "    clf = Pipeline([('vect', vectorizer), \n",
    "                       ('tfidf', TfidfTransformer()),\n",
    "                       ('clf', MultinomialNB(fit_prior=False, alpha = 0.0)),#0.0001\n",
    "                      ])\n",
    "    clf = clf.fit(X_train, y_train)\n",
    "    y_pred=clf.predict(X_test)\n",
    "    precision_r.append(precision_recall_fscore_support(y_test, y_pred, average='weighted')[0])\n",
    "print(precision_r)"
   ]
  },
  {
   "cell_type": "markdown",
   "id": "bf969ef3",
   "metadata": {},
   "source": [
    "- MultinomialNB: alpha"
   ]
  },
  {
   "cell_type": "code",
   "execution_count": 30,
   "id": "5f81ef13",
   "metadata": {},
   "outputs": [
    {
     "name": "stdout",
     "output_type": "stream",
     "text": [
      "[0.9467388489931214, 0.9271822589784403, 0.9177203856940828, 0.9096794702289288, 0.9043759839776362, 0.8996675019172798, 0.8965542093246016, 0.8937967505610562, 0.8906860292772234, 0.8884140258773808]\n"
     ]
    }
   ],
   "source": [
    "precision_r = []\n",
    "for a in np.arange(0.0,1.0,0.1):\n",
    "    vectorizer = CountVectorizer(ngram_range=(3,3))\n",
    "    clf = Pipeline([('vect', vectorizer), \n",
    "                       ('tfidf', TfidfTransformer()),\n",
    "                       ('clf', MultinomialNB(fit_prior=False, alpha = a)),\n",
    "                      ])\n",
    "    clf = clf.fit(X_train, y_train)\n",
    "    y_pred=clf.predict(X_test)\n",
    "    precision_r.append(precision_recall_fscore_support(y_test, y_pred, average='weighted')[0])\n",
    "print(precision_r)"
   ]
  },
  {
   "cell_type": "markdown",
   "id": "9ac02f61",
   "metadata": {},
   "source": [
    "- MultinomialNB: fit_prior (true o false)"
   ]
  },
  {
   "cell_type": "code",
   "execution_count": 31,
   "id": "fcf6689f",
   "metadata": {},
   "outputs": [
    {
     "name": "stdout",
     "output_type": "stream",
     "text": [
      "[0.9289328160972107, 0.9467388489931214]\n"
     ]
    }
   ],
   "source": [
    "precision_r = []\n",
    "for b in [True, False]:\n",
    "    vectorizer = CountVectorizer(ngram_range=(3,3))\n",
    "    clf = Pipeline([('vect', vectorizer), \n",
    "                       ('tfidf', TfidfTransformer()),\n",
    "                       ('clf', MultinomialNB(fit_prior=b, alpha = 0.0)),\n",
    "                      ])\n",
    "    clf = clf.fit(X_train, y_train)\n",
    "    y_pred=clf.predict(X_test)\n",
    "    precision_r.append(precision_recall_fscore_support(y_test, y_pred, average='weighted')[0])\n",
    "print(precision_r)"
   ]
  },
  {
   "cell_type": "code",
   "execution_count": null,
   "id": "5c940ca2",
   "metadata": {},
   "outputs": [],
   "source": []
  }
 ],
 "metadata": {
  "kernelspec": {
   "display_name": "Python 3",
   "language": "python",
   "name": "python3"
  },
  "language_info": {
   "codemirror_mode": {
    "name": "ipython",
    "version": 3
   },
   "file_extension": ".py",
   "mimetype": "text/x-python",
   "name": "python",
   "nbconvert_exporter": "python",
   "pygments_lexer": "ipython3",
   "version": "3.8.8"
  }
 },
 "nbformat": 4,
 "nbformat_minor": 5
}
