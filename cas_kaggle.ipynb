{
 "cells": [
  {
   "cell_type": "markdown",
   "id": "753ea206",
   "metadata": {},
   "source": [
    "### Àlex Correa Orri 1564967"
   ]
  },
  {
   "cell_type": "markdown",
   "id": "6341a23c",
   "metadata": {},
   "source": [
    "#### Dataset: https://www.kaggle.com/shaurov/website-classification-using-url"
   ]
  },
  {
   "cell_type": "code",
   "execution_count": 180,
   "id": "ee0830ed",
   "metadata": {},
   "outputs": [
    {
     "name": "stdout",
     "output_type": "stream",
     "text": [
      "Once deleted, variables cannot be recovered. Proceed (y/[n])? y\n",
      "Don't know how to reset  (), please run `%reset?` for details\n"
     ]
    }
   ],
   "source": [
    "reset()"
   ]
  },
  {
   "cell_type": "markdown",
   "id": "ed10f743",
   "metadata": {},
   "source": [
    "### MÒDULS I LLIBRERIES"
   ]
  },
  {
   "cell_type": "code",
   "execution_count": 181,
   "id": "a5671e14",
   "metadata": {},
   "outputs": [],
   "source": [
    "from sklearn.datasets import make_regression\n",
    "import numpy as np\n",
    "import pandas as pd\n",
    "from matplotlib import pyplot as plt\n",
    "import scipy.stats\n",
    "import os\n",
    "import seaborn as sns\n",
    "from scipy.stats import shapiro, spearmanr\n",
    "import math\n",
    "from sklearn.linear_model import LinearRegression\n",
    "from sklearn.metrics import r2_score\n",
    "import ipympl\n",
    "%matplotlib widget"
   ]
  },
  {
   "cell_type": "markdown",
   "id": "df7bda77",
   "metadata": {},
   "source": [
    "### DIRECTORI DE TREBALL"
   ]
  },
  {
   "cell_type": "code",
   "execution_count": 182,
   "id": "a2eeb023",
   "metadata": {},
   "outputs": [
    {
     "data": {
      "text/plain": [
       "'C:\\\\Users\\\\alexc\\\\OneDrive\\\\Escritorio\\\\UNI\\\\3er\\\\Aprenentatge Computacional\\\\PRAC_KAGGLE'"
      ]
     },
     "execution_count": 182,
     "metadata": {},
     "output_type": "execute_result"
    }
   ],
   "source": [
    "os.getcwd()\n",
    "path = 'C:/Users/alexc/OneDrive/Escritorio/UNI/3er/Aprenentatge Computacional/PRAC_KAGGLE'\n",
    "os.chdir(path)\n",
    "os.getcwd()\n",
    "# Visualitzarem només 3 decimals per mostra\n",
    "#pd.set_option('display.float_format', lambda x: '%.3f' % x)"
   ]
  },
  {
   "cell_type": "markdown",
   "id": "a30ed2c6",
   "metadata": {},
   "source": [
    "### LECTURA DE DADES"
   ]
  },
  {
   "cell_type": "code",
   "execution_count": 183,
   "id": "40d86341",
   "metadata": {},
   "outputs": [],
   "source": [
    "# Carreguem dataset d'exemple\n",
    "dataset = pd.read_csv('URL_Classification.csv', names=['n', 'url', 'class'], delimiter=',')"
   ]
  },
  {
   "cell_type": "code",
   "execution_count": 184,
   "id": "05c0e9b2",
   "metadata": {},
   "outputs": [],
   "source": [
    "#dataset"
   ]
  },
  {
   "cell_type": "markdown",
   "id": "dec131eb",
   "metadata": {},
   "source": [
    "#### Carreguem un dataset amb més de 466k paraules en anglès: https://github.com/dwyl/english-words"
   ]
  },
  {
   "cell_type": "code",
   "execution_count": 185,
   "id": "90cd04e8",
   "metadata": {},
   "outputs": [],
   "source": [
    "def load_words():\n",
    "    with open('words.txt') as word_file:\n",
    "        valid_words = (word_file.read().split())\n",
    "\n",
    "    return valid_words\n",
    "l_words = load_words()"
   ]
  },
  {
   "cell_type": "markdown",
   "id": "65b15851",
   "metadata": {},
   "source": [
    "### MODIFICACIÓ DEL DATASET"
   ]
  },
  {
   "cell_type": "code",
   "execution_count": 186,
   "id": "22c6e820",
   "metadata": {},
   "outputs": [],
   "source": [
    "dataset = dataset.drop(['n'], axis=1)"
   ]
  },
  {
   "cell_type": "code",
   "execution_count": 187,
   "id": "bb940b07",
   "metadata": {},
   "outputs": [],
   "source": [
    "#dataset"
   ]
  },
  {
   "cell_type": "code",
   "execution_count": 188,
   "id": "40fb8343",
   "metadata": {},
   "outputs": [],
   "source": [
    "#dataset['class'].unique()"
   ]
  },
  {
   "cell_type": "markdown",
   "id": "88757087",
   "metadata": {},
   "source": [
    "#### Per a fer proves reduim el sample a 100000 dades"
   ]
  },
  {
   "cell_type": "code",
   "execution_count": 189,
   "id": "6c7a4720",
   "metadata": {},
   "outputs": [],
   "source": [
    "s=10000\n",
    "dataset1 = dataset.sample(n=s, random_state=10)"
   ]
  },
  {
   "cell_type": "code",
   "execution_count": 190,
   "id": "906755cd",
   "metadata": {},
   "outputs": [],
   "source": [
    "#dataset1['class'].unique()"
   ]
  },
  {
   "cell_type": "code",
   "execution_count": null,
   "id": "eda57812",
   "metadata": {},
   "outputs": [],
   "source": [
    "l = [0]*s\n",
    "for w in l_words:\n",
    "    dataset1[w] = l"
   ]
  },
  {
   "cell_type": "code",
   "execution_count": null,
   "id": "9c0bd937",
   "metadata": {},
   "outputs": [],
   "source": []
  }
 ],
 "metadata": {
  "kernelspec": {
   "display_name": "Python 3",
   "language": "python",
   "name": "python3"
  },
  "language_info": {
   "codemirror_mode": {
    "name": "ipython",
    "version": 3
   },
   "file_extension": ".py",
   "mimetype": "text/x-python",
   "name": "python",
   "nbconvert_exporter": "python",
   "pygments_lexer": "ipython3",
   "version": "3.8.8"
  }
 },
 "nbformat": 4,
 "nbformat_minor": 5
}
