{
 "cells": [
  {
   "cell_type": "markdown",
   "id": "7ecbade6",
   "metadata": {},
   "source": [
    "### Àlex Correa Orri 1564967"
   ]
  },
  {
   "cell_type": "markdown",
   "id": "b7093714",
   "metadata": {},
   "source": [
    "#### Dataset: https://www.kaggle.com/shaurov/website-classification-using-url"
   ]
  },
  {
   "cell_type": "code",
   "execution_count": 30,
   "id": "4b47eb79",
   "metadata": {
    "scrolled": false
   },
   "outputs": [
    {
     "name": "stdout",
     "output_type": "stream",
     "text": [
      "Once deleted, variables cannot be recovered. Proceed (y/[n])? y\n",
      "Don't know how to reset  (), please run `%reset?` for details\n"
     ]
    }
   ],
   "source": [
    "reset()"
   ]
  },
  {
   "cell_type": "markdown",
   "id": "8769564d",
   "metadata": {},
   "source": [
    "### MÒDULS I LLIBRERIES"
   ]
  },
  {
   "cell_type": "code",
   "execution_count": 31,
   "id": "c5fc7bf5",
   "metadata": {},
   "outputs": [],
   "source": [
    "from sklearn.datasets import make_regression\n",
    "import numpy as np\n",
    "import pandas as pd\n",
    "from matplotlib import pyplot as plt\n",
    "import scipy.stats\n",
    "import os\n",
    "import seaborn as sns\n",
    "from scipy.stats import shapiro, spearmanr\n",
    "import math\n",
    "from sklearn.linear_model import LinearRegression\n",
    "from sklearn.metrics import r2_score\n",
    "import ipympl\n",
    "from sklearn.linear_model import LogisticRegression\n",
    "from sklearn import svm, datasets\n",
    "from sklearn.model_selection import train_test_split\n",
    "from sklearn.feature_extraction.text import CountVectorizer\n",
    "%matplotlib widget"
   ]
  },
  {
   "cell_type": "markdown",
   "id": "41a80f7f",
   "metadata": {},
   "source": [
    "### DIRECTORI DE TREBALL"
   ]
  },
  {
   "cell_type": "code",
   "execution_count": 32,
   "id": "3e3815ad",
   "metadata": {},
   "outputs": [
    {
     "data": {
      "text/plain": [
       "'C:\\\\Users\\\\alexc\\\\OneDrive\\\\Escritorio\\\\UNI\\\\3er\\\\Aprenentatge Computacional\\\\PRAC_KAGGLE'"
      ]
     },
     "execution_count": 32,
     "metadata": {},
     "output_type": "execute_result"
    }
   ],
   "source": [
    "os.getcwd()\n",
    "path = 'C:/Users/alexc/OneDrive/Escritorio/UNI/3er/Aprenentatge Computacional/PRAC_KAGGLE'\n",
    "os.chdir(path)\n",
    "os.getcwd()\n",
    "# Visualitzarem només 3 decimals per mostra\n",
    "#pd.set_option('display.float_format', lambda x: '%.3f' % x)"
   ]
  },
  {
   "cell_type": "markdown",
   "id": "295c0b19",
   "metadata": {},
   "source": [
    "### LECTURA DE DADES"
   ]
  },
  {
   "cell_type": "code",
   "execution_count": 33,
   "id": "c10877a5",
   "metadata": {},
   "outputs": [],
   "source": [
    "# Carreguem dataset d'exemple\n",
    "dataset = pd.read_csv('URL_Classification.csv', names=['n', 'url', 'class'], delimiter=',')"
   ]
  },
  {
   "cell_type": "code",
   "execution_count": 34,
   "id": "e115fedb",
   "metadata": {},
   "outputs": [],
   "source": [
    "#dataset"
   ]
  },
  {
   "cell_type": "markdown",
   "id": "40f48377",
   "metadata": {},
   "source": [
    "### MODIFICACIÓ DEL DATASET"
   ]
  },
  {
   "cell_type": "code",
   "execution_count": 35,
   "id": "dc07f7f2",
   "metadata": {},
   "outputs": [],
   "source": [
    "dataset = dataset.drop(['n'], axis=1)"
   ]
  },
  {
   "cell_type": "code",
   "execution_count": 36,
   "id": "5b877372",
   "metadata": {
    "scrolled": true
   },
   "outputs": [
    {
     "name": "stdout",
     "output_type": "stream",
     "text": [
      "['Adult' 'Arts' 'Business' 'Computers' 'Games' 'Health' 'Home' 'Kids'\n",
      " 'News' 'Recreation' 'Reference' 'Science' 'Shopping' 'Society' 'Sports']\n"
     ]
    },
    {
     "data": {
      "text/plain": [
       "15"
      ]
     },
     "execution_count": 36,
     "metadata": {},
     "output_type": "execute_result"
    }
   ],
   "source": [
    "print(dataset['class'].unique())\n",
    "len(dataset['class'].unique())"
   ]
  },
  {
   "cell_type": "markdown",
   "id": "64414ba4",
   "metadata": {},
   "source": [
    "#### Per a fer proves reduim el sample a 10000 dades"
   ]
  },
  {
   "cell_type": "code",
   "execution_count": 37,
   "id": "07b9419d",
   "metadata": {},
   "outputs": [],
   "source": [
    "s=10000\n",
    "dataset1 = dataset.sample(n=s, random_state=10)"
   ]
  },
  {
   "cell_type": "code",
   "execution_count": 38,
   "id": "345463f6",
   "metadata": {
    "scrolled": true
   },
   "outputs": [
    {
     "name": "stdout",
     "output_type": "stream",
     "text": [
      "['Games' 'Reference' 'Society' 'Computers' 'Arts' 'Kids' 'Business'\n",
      " 'Shopping' 'Recreation' 'Health' 'Sports' 'Science' 'Home' 'News' 'Adult']\n"
     ]
    },
    {
     "data": {
      "text/plain": [
       "15"
      ]
     },
     "execution_count": 38,
     "metadata": {},
     "output_type": "execute_result"
    }
   ],
   "source": [
    "print(dataset1['class'].unique())\n",
    "len(dataset1['class'].unique())"
   ]
  },
  {
   "cell_type": "code",
   "execution_count": 39,
   "id": "0d62606a",
   "metadata": {
    "scrolled": true
   },
   "outputs": [],
   "source": [
    "#dataset1"
   ]
  },
  {
   "cell_type": "markdown",
   "id": "3a70c0bf",
   "metadata": {},
   "source": [
    "#### Consultem quines són les paraules més comunes als url del dataset"
   ]
  },
  {
   "cell_type": "code",
   "execution_count": 40,
   "id": "16643b50",
   "metadata": {
    "scrolled": true
   },
   "outputs": [],
   "source": [
    "#dataset1"
   ]
  },
  {
   "cell_type": "code",
   "execution_count": 41,
   "id": "905e3a31",
   "metadata": {},
   "outputs": [],
   "source": [
    "urls=''\n",
    "for url in dataset1['url']:\n",
    "    urls += url\n",
    "#urls: text concatenat amb tots els strings (sense espais)"
   ]
  },
  {
   "cell_type": "code",
   "execution_count": 42,
   "id": "aebc7f50",
   "metadata": {
    "scrolled": true
   },
   "outputs": [
    {
     "data": {
      "text/html": [
       "<div>\n",
       "<style scoped>\n",
       "    .dataframe tbody tr th:only-of-type {\n",
       "        vertical-align: middle;\n",
       "    }\n",
       "\n",
       "    .dataframe tbody tr th {\n",
       "        vertical-align: top;\n",
       "    }\n",
       "\n",
       "    .dataframe thead th {\n",
       "        text-align: right;\n",
       "    }\n",
       "</style>\n",
       "<table border=\"1\" class=\"dataframe\">\n",
       "  <thead>\n",
       "    <tr style=\"text-align: right;\">\n",
       "      <th></th>\n",
       "      <th>00</th>\n",
       "      <th>00004fhttp</th>\n",
       "      <th>0002786</th>\n",
       "      <th>001</th>\n",
       "      <th>00100</th>\n",
       "      <th>0011</th>\n",
       "      <th>0020</th>\n",
       "      <th>0029229http</th>\n",
       "      <th>007aufgcn</th>\n",
       "      <th>00_52</th>\n",
       "      <th>...</th>\n",
       "      <th>zope</th>\n",
       "      <th>zorrofx</th>\n",
       "      <th>zsanta</th>\n",
       "      <th>zsp</th>\n",
       "      <th>zulem</th>\n",
       "      <th>zulu</th>\n",
       "      <th>zumpano</th>\n",
       "      <th>zynewave</th>\n",
       "      <th>zytco</th>\n",
       "      <th>zzpat</th>\n",
       "    </tr>\n",
       "  </thead>\n",
       "  <tbody>\n",
       "    <tr>\n",
       "      <th>0</th>\n",
       "      <td>8</td>\n",
       "      <td>1</td>\n",
       "      <td>1</td>\n",
       "      <td>1</td>\n",
       "      <td>1</td>\n",
       "      <td>1</td>\n",
       "      <td>1</td>\n",
       "      <td>1</td>\n",
       "      <td>1</td>\n",
       "      <td>1</td>\n",
       "      <td>...</td>\n",
       "      <td>1</td>\n",
       "      <td>1</td>\n",
       "      <td>1</td>\n",
       "      <td>1</td>\n",
       "      <td>1</td>\n",
       "      <td>1</td>\n",
       "      <td>1</td>\n",
       "      <td>1</td>\n",
       "      <td>1</td>\n",
       "      <td>1</td>\n",
       "    </tr>\n",
       "  </tbody>\n",
       "</table>\n",
       "<p>1 rows × 15763 columns</p>\n",
       "</div>"
      ],
      "text/plain": [
       "   00  00004fhttp  0002786  001  00100  0011  0020  0029229http  007aufgcn  \\\n",
       "0   8           1        1    1      1     1     1            1          1   \n",
       "\n",
       "   00_52  ...  zope  zorrofx  zsanta  zsp  zulem  zulu  zumpano  zynewave  \\\n",
       "0      1  ...     1        1       1    1      1     1        1         1   \n",
       "\n",
       "   zytco  zzpat  \n",
       "0      1      1  \n",
       "\n",
       "[1 rows x 15763 columns]"
      ]
     },
     "execution_count": 42,
     "metadata": {},
     "output_type": "execute_result"
    }
   ],
   "source": [
    "vect = CountVectorizer()\n",
    "mat = vect.fit_transform([urls])\n",
    "mat\n",
    "counts = pd.DataFrame(mat.toarray(), columns=vect.get_feature_names())\n",
    "counts #pandas dataframe amb els valors de les paraules més comunes al string"
   ]
  },
  {
   "cell_type": "code",
   "execution_count": 43,
   "id": "8b53e27d",
   "metadata": {},
   "outputs": [],
   "source": [
    "sort_counts = counts.sort_values(by =0, axis=1)\n",
    "sort_counts = sort_counts[sort_counts.columns[::-1]]"
   ]
  },
  {
   "cell_type": "code",
   "execution_count": 44,
   "id": "2468c6e7",
   "metadata": {
    "scrolled": true
   },
   "outputs": [
    {
     "data": {
      "text/html": [
       "<div>\n",
       "<style scoped>\n",
       "    .dataframe tbody tr th:only-of-type {\n",
       "        vertical-align: middle;\n",
       "    }\n",
       "\n",
       "    .dataframe tbody tr th {\n",
       "        vertical-align: top;\n",
       "    }\n",
       "\n",
       "    .dataframe thead th {\n",
       "        text-align: right;\n",
       "    }\n",
       "</style>\n",
       "<table border=\"1\" class=\"dataframe\">\n",
       "  <thead>\n",
       "    <tr style=\"text-align: right;\">\n",
       "      <th></th>\n",
       "      <th>www</th>\n",
       "      <th>http</th>\n",
       "      <th>com</th>\n",
       "      <th>comhttp</th>\n",
       "      <th>org</th>\n",
       "      <th>htmlhttp</th>\n",
       "      <th>htmhttp</th>\n",
       "      <th>edu</th>\n",
       "      <th>co</th>\n",
       "      <th>uk</th>\n",
       "      <th>...</th>\n",
       "      <th>nosa</th>\n",
       "      <th>norzagaray</th>\n",
       "      <th>norwich</th>\n",
       "      <th>norwalkctlawfirm</th>\n",
       "      <th>northwestsoftball</th>\n",
       "      <th>northwestpatentlaw</th>\n",
       "      <th>northwest</th>\n",
       "      <th>northtexas</th>\n",
       "      <th>northstarrocketry</th>\n",
       "      <th>juniorcorinthians</th>\n",
       "    </tr>\n",
       "  </thead>\n",
       "  <tbody>\n",
       "    <tr>\n",
       "      <th>0</th>\n",
       "      <td>8061</td>\n",
       "      <td>5494</td>\n",
       "      <td>5012</td>\n",
       "      <td>1267</td>\n",
       "      <td>1134</td>\n",
       "      <td>1086</td>\n",
       "      <td>690</td>\n",
       "      <td>519</td>\n",
       "      <td>446</td>\n",
       "      <td>429</td>\n",
       "      <td>...</td>\n",
       "      <td>1</td>\n",
       "      <td>1</td>\n",
       "      <td>1</td>\n",
       "      <td>1</td>\n",
       "      <td>1</td>\n",
       "      <td>1</td>\n",
       "      <td>1</td>\n",
       "      <td>1</td>\n",
       "      <td>1</td>\n",
       "      <td>1</td>\n",
       "    </tr>\n",
       "  </tbody>\n",
       "</table>\n",
       "<p>1 rows × 15763 columns</p>\n",
       "</div>"
      ],
      "text/plain": [
       "    www  http   com  comhttp   org  htmlhttp  htmhttp  edu   co   uk  ...  \\\n",
       "0  8061  5494  5012     1267  1134      1086      690  519  446  429  ...   \n",
       "\n",
       "   nosa  norzagaray  norwich  norwalkctlawfirm  northwestsoftball  \\\n",
       "0     1           1        1                 1                  1   \n",
       "\n",
       "   northwestpatentlaw  northwest  northtexas  northstarrocketry  \\\n",
       "0                   1          1           1                  1   \n",
       "\n",
       "   juniorcorinthians  \n",
       "0                  1  \n",
       "\n",
       "[1 rows x 15763 columns]"
      ]
     },
     "execution_count": 44,
     "metadata": {},
     "output_type": "execute_result"
    }
   ],
   "source": [
    "sort_counts #dataframe ordenat per la paraula més comuna"
   ]
  },
  {
   "cell_type": "code",
   "execution_count": 45,
   "id": "f82e4227",
   "metadata": {},
   "outputs": [
    {
     "data": {
      "text/plain": [
       "Index(['www', 'http', 'com', 'comhttp', 'org', 'htmlhttp', 'htmhttp', 'edu',\n",
       "       'co', 'uk', 'net', 'geocities', 'index', 'amp', 'orghttp', 'tripod',\n",
       "       'angelfire', 'ca', 'au', 'gov', 'ac', 'ukhttp', 'us', 'members',\n",
       "       'nethttp', 'home', 'de', 'id', 'newadvent', 'cathen', 'php', 'en',\n",
       "       'shtmlhttp', 'nl', 'reviews', 'imdb', 'cgi', 'asp', 'yahoo', 'groups',\n",
       "       'html', 'news', 'free', 'group', 'users', 'sports', 'wiki', 'title',\n",
       "       'asphttp', 'wikipedia'],\n",
       "      dtype='object')"
      ]
     },
     "execution_count": 45,
     "metadata": {},
     "output_type": "execute_result"
    }
   ],
   "source": [
    "sort_counts.iloc[:, : 50].columns"
   ]
  },
  {
   "cell_type": "code",
   "execution_count": 46,
   "id": "7b453e5c",
   "metadata": {},
   "outputs": [],
   "source": [
    "sort_counts_del = sort_counts\n",
    "sort_counts_del = sort_counts_del.drop(['www', 'http', 'com', 'comhttp', 'org', 'htmlhttp', 'htmhttp', 'edu', 'co', 'uk', 'net', 'orghttp','html','nethttp','shtmlhttp', 'ukhttp'], axis=1)"
   ]
  },
  {
   "cell_type": "code",
   "execution_count": 47,
   "id": "01aebde5",
   "metadata": {
    "scrolled": true
   },
   "outputs": [
    {
     "data": {
      "text/html": [
       "<div>\n",
       "<style scoped>\n",
       "    .dataframe tbody tr th:only-of-type {\n",
       "        vertical-align: middle;\n",
       "    }\n",
       "\n",
       "    .dataframe tbody tr th {\n",
       "        vertical-align: top;\n",
       "    }\n",
       "\n",
       "    .dataframe thead th {\n",
       "        text-align: right;\n",
       "    }\n",
       "</style>\n",
       "<table border=\"1\" class=\"dataframe\">\n",
       "  <thead>\n",
       "    <tr style=\"text-align: right;\">\n",
       "      <th></th>\n",
       "      <th>geocities</th>\n",
       "      <th>index</th>\n",
       "      <th>amp</th>\n",
       "      <th>tripod</th>\n",
       "      <th>angelfire</th>\n",
       "      <th>ca</th>\n",
       "      <th>au</th>\n",
       "      <th>gov</th>\n",
       "      <th>ac</th>\n",
       "      <th>us</th>\n",
       "      <th>...</th>\n",
       "      <th>titles</th>\n",
       "      <th>people</th>\n",
       "      <th>tech</th>\n",
       "      <th>03</th>\n",
       "      <th>pubs</th>\n",
       "      <th>nzhttp</th>\n",
       "      <th>or</th>\n",
       "      <th>content</th>\n",
       "      <th>cmu</th>\n",
       "      <th>bartleby</th>\n",
       "    </tr>\n",
       "  </thead>\n",
       "  <tbody>\n",
       "    <tr>\n",
       "      <th>0</th>\n",
       "      <td>350</td>\n",
       "      <td>315</td>\n",
       "      <td>176</td>\n",
       "      <td>144</td>\n",
       "      <td>134</td>\n",
       "      <td>133</td>\n",
       "      <td>109</td>\n",
       "      <td>107</td>\n",
       "      <td>94</td>\n",
       "      <td>89</td>\n",
       "      <td>...</td>\n",
       "      <td>13</td>\n",
       "      <td>13</td>\n",
       "      <td>13</td>\n",
       "      <td>13</td>\n",
       "      <td>13</td>\n",
       "      <td>13</td>\n",
       "      <td>13</td>\n",
       "      <td>13</td>\n",
       "      <td>13</td>\n",
       "      <td>13</td>\n",
       "    </tr>\n",
       "  </tbody>\n",
       "</table>\n",
       "<p>1 rows × 150 columns</p>\n",
       "</div>"
      ],
      "text/plain": [
       "   geocities  index  amp  tripod  angelfire   ca   au  gov  ac  us  ...  \\\n",
       "0        350    315  176     144        134  133  109  107  94  89  ...   \n",
       "\n",
       "   titles  people  tech  03  pubs  nzhttp  or  content  cmu  bartleby  \n",
       "0      13      13    13  13    13      13  13       13   13        13  \n",
       "\n",
       "[1 rows x 150 columns]"
      ]
     },
     "execution_count": 47,
     "metadata": {},
     "output_type": "execute_result"
    }
   ],
   "source": [
    "sort_counts_del.iloc[:, : 150]"
   ]
  },
  {
   "cell_type": "markdown",
   "id": "e8743b01",
   "metadata": {},
   "source": [
    "#### Utilitzarem les 100 paraules més comunes (treient els www, http, com, org,...)"
   ]
  },
  {
   "cell_type": "code",
   "execution_count": 48,
   "id": "fb7f2db2",
   "metadata": {},
   "outputs": [],
   "source": [
    "words_def = list(sort_counts_del.iloc[:, : 100].columns)\n",
    "#words_def\n",
    "for w in words_def:\n",
    "    if ('http' in w):\n",
    "        words_def.remove(w)"
   ]
  },
  {
   "cell_type": "code",
   "execution_count": 49,
   "id": "edcf5374",
   "metadata": {},
   "outputs": [
    {
     "data": {
      "text/plain": [
       "95"
      ]
     },
     "execution_count": 49,
     "metadata": {},
     "output_type": "execute_result"
    }
   ],
   "source": [
    "len(words_def)"
   ]
  },
  {
   "cell_type": "code",
   "execution_count": 50,
   "id": "713dfe01",
   "metadata": {},
   "outputs": [],
   "source": [
    "url_vect = list(dataset1['url'])\n",
    "vectorizer = CountVectorizer()\n",
    "fit_vect = vectorizer.fit_transform(url_vect)\n",
    "\n",
    "dataset1_word = pd.DataFrame(fit_vect.toarray(), columns=vectorizer.get_feature_names())"
   ]
  },
  {
   "cell_type": "code",
   "execution_count": 51,
   "id": "13ad6ac3",
   "metadata": {},
   "outputs": [],
   "source": [
    "dataset1_word = dataset1_word[words_def] #matriu (dataset) amb les paraules més comunes"
   ]
  },
  {
   "cell_type": "code",
   "execution_count": 52,
   "id": "0e08a6ee",
   "metadata": {},
   "outputs": [],
   "source": [
    "dataset1_word.insert(0, 'url', url_vect)\n",
    "dataset1_word.insert(1, 'class', list(dataset1['class']))"
   ]
  },
  {
   "cell_type": "code",
   "execution_count": 53,
   "id": "9d4ff106",
   "metadata": {
    "scrolled": false
   },
   "outputs": [
    {
     "data": {
      "text/html": [
       "<div>\n",
       "<style scoped>\n",
       "    .dataframe tbody tr th:only-of-type {\n",
       "        vertical-align: middle;\n",
       "    }\n",
       "\n",
       "    .dataframe tbody tr th {\n",
       "        vertical-align: top;\n",
       "    }\n",
       "\n",
       "    .dataframe thead th {\n",
       "        text-align: right;\n",
       "    }\n",
       "</style>\n",
       "<table border=\"1\" class=\"dataframe\">\n",
       "  <thead>\n",
       "    <tr style=\"text-align: right;\">\n",
       "      <th></th>\n",
       "      <th>url</th>\n",
       "      <th>class</th>\n",
       "      <th>geocities</th>\n",
       "      <th>index</th>\n",
       "      <th>amp</th>\n",
       "      <th>tripod</th>\n",
       "      <th>angelfire</th>\n",
       "      <th>ca</th>\n",
       "      <th>au</th>\n",
       "      <th>gov</th>\n",
       "      <th>...</th>\n",
       "      <th>eti</th>\n",
       "      <th>beschrijving</th>\n",
       "      <th>soorten</th>\n",
       "      <th>menuentry</th>\n",
       "      <th>uva</th>\n",
       "      <th>selected</th>\n",
       "      <th>math</th>\n",
       "      <th>archive</th>\n",
       "      <th>se</th>\n",
       "      <th>football</th>\n",
       "    </tr>\n",
       "  </thead>\n",
       "  <tbody>\n",
       "    <tr>\n",
       "      <th>0</th>\n",
       "      <td>http://www.aaagames.com/pokemon.htm</td>\n",
       "      <td>Games</td>\n",
       "      <td>0</td>\n",
       "      <td>0</td>\n",
       "      <td>0</td>\n",
       "      <td>0</td>\n",
       "      <td>0</td>\n",
       "      <td>0</td>\n",
       "      <td>0</td>\n",
       "      <td>0</td>\n",
       "      <td>...</td>\n",
       "      <td>0</td>\n",
       "      <td>0</td>\n",
       "      <td>0</td>\n",
       "      <td>0</td>\n",
       "      <td>0</td>\n",
       "      <td>0</td>\n",
       "      <td>0</td>\n",
       "      <td>0</td>\n",
       "      <td>0</td>\n",
       "      <td>0</td>\n",
       "    </tr>\n",
       "    <tr>\n",
       "      <th>1</th>\n",
       "      <td>http://www.azdyslexia.com/</td>\n",
       "      <td>Reference</td>\n",
       "      <td>0</td>\n",
       "      <td>0</td>\n",
       "      <td>0</td>\n",
       "      <td>0</td>\n",
       "      <td>0</td>\n",
       "      <td>0</td>\n",
       "      <td>0</td>\n",
       "      <td>0</td>\n",
       "      <td>...</td>\n",
       "      <td>0</td>\n",
       "      <td>0</td>\n",
       "      <td>0</td>\n",
       "      <td>0</td>\n",
       "      <td>0</td>\n",
       "      <td>0</td>\n",
       "      <td>0</td>\n",
       "      <td>0</td>\n",
       "      <td>0</td>\n",
       "      <td>0</td>\n",
       "    </tr>\n",
       "    <tr>\n",
       "      <th>2</th>\n",
       "      <td>http://www.blondetiger.net/</td>\n",
       "      <td>Society</td>\n",
       "      <td>0</td>\n",
       "      <td>0</td>\n",
       "      <td>0</td>\n",
       "      <td>0</td>\n",
       "      <td>0</td>\n",
       "      <td>0</td>\n",
       "      <td>0</td>\n",
       "      <td>0</td>\n",
       "      <td>...</td>\n",
       "      <td>0</td>\n",
       "      <td>0</td>\n",
       "      <td>0</td>\n",
       "      <td>0</td>\n",
       "      <td>0</td>\n",
       "      <td>0</td>\n",
       "      <td>0</td>\n",
       "      <td>0</td>\n",
       "      <td>0</td>\n",
       "      <td>0</td>\n",
       "    </tr>\n",
       "    <tr>\n",
       "      <th>3</th>\n",
       "      <td>http://www.willoughbywebdesign.com/</td>\n",
       "      <td>Computers</td>\n",
       "      <td>0</td>\n",
       "      <td>0</td>\n",
       "      <td>0</td>\n",
       "      <td>0</td>\n",
       "      <td>0</td>\n",
       "      <td>0</td>\n",
       "      <td>0</td>\n",
       "      <td>0</td>\n",
       "      <td>...</td>\n",
       "      <td>0</td>\n",
       "      <td>0</td>\n",
       "      <td>0</td>\n",
       "      <td>0</td>\n",
       "      <td>0</td>\n",
       "      <td>0</td>\n",
       "      <td>0</td>\n",
       "      <td>0</td>\n",
       "      <td>0</td>\n",
       "      <td>0</td>\n",
       "    </tr>\n",
       "    <tr>\n",
       "      <th>4</th>\n",
       "      <td>http://www.ashevillebarbershop.com/</td>\n",
       "      <td>Arts</td>\n",
       "      <td>0</td>\n",
       "      <td>0</td>\n",
       "      <td>0</td>\n",
       "      <td>0</td>\n",
       "      <td>0</td>\n",
       "      <td>0</td>\n",
       "      <td>0</td>\n",
       "      <td>0</td>\n",
       "      <td>...</td>\n",
       "      <td>0</td>\n",
       "      <td>0</td>\n",
       "      <td>0</td>\n",
       "      <td>0</td>\n",
       "      <td>0</td>\n",
       "      <td>0</td>\n",
       "      <td>0</td>\n",
       "      <td>0</td>\n",
       "      <td>0</td>\n",
       "      <td>0</td>\n",
       "    </tr>\n",
       "    <tr>\n",
       "      <th>...</th>\n",
       "      <td>...</td>\n",
       "      <td>...</td>\n",
       "      <td>...</td>\n",
       "      <td>...</td>\n",
       "      <td>...</td>\n",
       "      <td>...</td>\n",
       "      <td>...</td>\n",
       "      <td>...</td>\n",
       "      <td>...</td>\n",
       "      <td>...</td>\n",
       "      <td>...</td>\n",
       "      <td>...</td>\n",
       "      <td>...</td>\n",
       "      <td>...</td>\n",
       "      <td>...</td>\n",
       "      <td>...</td>\n",
       "      <td>...</td>\n",
       "      <td>...</td>\n",
       "      <td>...</td>\n",
       "      <td>...</td>\n",
       "      <td>...</td>\n",
       "    </tr>\n",
       "    <tr>\n",
       "      <th>9995</th>\n",
       "      <td>http://londonphotography.biz</td>\n",
       "      <td>Business</td>\n",
       "      <td>0</td>\n",
       "      <td>0</td>\n",
       "      <td>0</td>\n",
       "      <td>0</td>\n",
       "      <td>0</td>\n",
       "      <td>0</td>\n",
       "      <td>0</td>\n",
       "      <td>0</td>\n",
       "      <td>...</td>\n",
       "      <td>0</td>\n",
       "      <td>0</td>\n",
       "      <td>0</td>\n",
       "      <td>0</td>\n",
       "      <td>0</td>\n",
       "      <td>0</td>\n",
       "      <td>0</td>\n",
       "      <td>0</td>\n",
       "      <td>0</td>\n",
       "      <td>0</td>\n",
       "    </tr>\n",
       "    <tr>\n",
       "      <th>9996</th>\n",
       "      <td>http://project-ufo.com</td>\n",
       "      <td>Society</td>\n",
       "      <td>0</td>\n",
       "      <td>0</td>\n",
       "      <td>0</td>\n",
       "      <td>0</td>\n",
       "      <td>0</td>\n",
       "      <td>0</td>\n",
       "      <td>0</td>\n",
       "      <td>0</td>\n",
       "      <td>...</td>\n",
       "      <td>0</td>\n",
       "      <td>0</td>\n",
       "      <td>0</td>\n",
       "      <td>0</td>\n",
       "      <td>0</td>\n",
       "      <td>0</td>\n",
       "      <td>0</td>\n",
       "      <td>0</td>\n",
       "      <td>0</td>\n",
       "      <td>0</td>\n",
       "    </tr>\n",
       "    <tr>\n",
       "      <th>9997</th>\n",
       "      <td>http://www.gamespot.com/ps2/rpg/makaikingdomch...</td>\n",
       "      <td>Games</td>\n",
       "      <td>0</td>\n",
       "      <td>1</td>\n",
       "      <td>0</td>\n",
       "      <td>0</td>\n",
       "      <td>0</td>\n",
       "      <td>0</td>\n",
       "      <td>0</td>\n",
       "      <td>0</td>\n",
       "      <td>...</td>\n",
       "      <td>0</td>\n",
       "      <td>0</td>\n",
       "      <td>0</td>\n",
       "      <td>0</td>\n",
       "      <td>0</td>\n",
       "      <td>0</td>\n",
       "      <td>0</td>\n",
       "      <td>0</td>\n",
       "      <td>0</td>\n",
       "      <td>0</td>\n",
       "    </tr>\n",
       "    <tr>\n",
       "      <th>9998</th>\n",
       "      <td>http://www.geocities.com/hollywood/academy/3420/</td>\n",
       "      <td>Arts</td>\n",
       "      <td>1</td>\n",
       "      <td>0</td>\n",
       "      <td>0</td>\n",
       "      <td>0</td>\n",
       "      <td>0</td>\n",
       "      <td>0</td>\n",
       "      <td>0</td>\n",
       "      <td>0</td>\n",
       "      <td>...</td>\n",
       "      <td>0</td>\n",
       "      <td>0</td>\n",
       "      <td>0</td>\n",
       "      <td>0</td>\n",
       "      <td>0</td>\n",
       "      <td>0</td>\n",
       "      <td>0</td>\n",
       "      <td>0</td>\n",
       "      <td>0</td>\n",
       "      <td>0</td>\n",
       "    </tr>\n",
       "    <tr>\n",
       "      <th>9999</th>\n",
       "      <td>http://www.bitsim.com/</td>\n",
       "      <td>Computers</td>\n",
       "      <td>0</td>\n",
       "      <td>0</td>\n",
       "      <td>0</td>\n",
       "      <td>0</td>\n",
       "      <td>0</td>\n",
       "      <td>0</td>\n",
       "      <td>0</td>\n",
       "      <td>0</td>\n",
       "      <td>...</td>\n",
       "      <td>0</td>\n",
       "      <td>0</td>\n",
       "      <td>0</td>\n",
       "      <td>0</td>\n",
       "      <td>0</td>\n",
       "      <td>0</td>\n",
       "      <td>0</td>\n",
       "      <td>0</td>\n",
       "      <td>0</td>\n",
       "      <td>0</td>\n",
       "    </tr>\n",
       "  </tbody>\n",
       "</table>\n",
       "<p>10000 rows × 97 columns</p>\n",
       "</div>"
      ],
      "text/plain": [
       "                                                    url      class  geocities  \\\n",
       "0                   http://www.aaagames.com/pokemon.htm      Games          0   \n",
       "1                            http://www.azdyslexia.com/  Reference          0   \n",
       "2                           http://www.blondetiger.net/    Society          0   \n",
       "3                   http://www.willoughbywebdesign.com/  Computers          0   \n",
       "4                   http://www.ashevillebarbershop.com/       Arts          0   \n",
       "...                                                 ...        ...        ...   \n",
       "9995                       http://londonphotography.biz   Business          0   \n",
       "9996                             http://project-ufo.com    Society          0   \n",
       "9997  http://www.gamespot.com/ps2/rpg/makaikingdomch...      Games          0   \n",
       "9998   http://www.geocities.com/hollywood/academy/3420/       Arts          1   \n",
       "9999                             http://www.bitsim.com/  Computers          0   \n",
       "\n",
       "      index  amp  tripod  angelfire  ca  au  gov  ...  eti  beschrijving  \\\n",
       "0         0    0       0          0   0   0    0  ...    0             0   \n",
       "1         0    0       0          0   0   0    0  ...    0             0   \n",
       "2         0    0       0          0   0   0    0  ...    0             0   \n",
       "3         0    0       0          0   0   0    0  ...    0             0   \n",
       "4         0    0       0          0   0   0    0  ...    0             0   \n",
       "...     ...  ...     ...        ...  ..  ..  ...  ...  ...           ...   \n",
       "9995      0    0       0          0   0   0    0  ...    0             0   \n",
       "9996      0    0       0          0   0   0    0  ...    0             0   \n",
       "9997      1    0       0          0   0   0    0  ...    0             0   \n",
       "9998      0    0       0          0   0   0    0  ...    0             0   \n",
       "9999      0    0       0          0   0   0    0  ...    0             0   \n",
       "\n",
       "      soorten  menuentry  uva  selected  math  archive  se  football  \n",
       "0           0          0    0         0     0        0   0         0  \n",
       "1           0          0    0         0     0        0   0         0  \n",
       "2           0          0    0         0     0        0   0         0  \n",
       "3           0          0    0         0     0        0   0         0  \n",
       "4           0          0    0         0     0        0   0         0  \n",
       "...       ...        ...  ...       ...   ...      ...  ..       ...  \n",
       "9995        0          0    0         0     0        0   0         0  \n",
       "9996        0          0    0         0     0        0   0         0  \n",
       "9997        0          0    0         0     0        0   0         0  \n",
       "9998        0          0    0         0     0        0   0         0  \n",
       "9999        0          0    0         0     0        0   0         0  \n",
       "\n",
       "[10000 rows x 97 columns]"
      ]
     },
     "execution_count": 53,
     "metadata": {},
     "output_type": "execute_result"
    }
   ],
   "source": [
    "dataset1_word"
   ]
  },
  {
   "cell_type": "code",
   "execution_count": null,
   "id": "a2c7855a",
   "metadata": {},
   "outputs": [],
   "source": []
  },
  {
   "cell_type": "code",
   "execution_count": null,
   "id": "2b199239",
   "metadata": {},
   "outputs": [],
   "source": []
  },
  {
   "cell_type": "code",
   "execution_count": null,
   "id": "c49f7fd2",
   "metadata": {},
   "outputs": [],
   "source": []
  }
 ],
 "metadata": {
  "kernelspec": {
   "display_name": "Python 3",
   "language": "python",
   "name": "python3"
  },
  "language_info": {
   "codemirror_mode": {
    "name": "ipython",
    "version": 3
   },
   "file_extension": ".py",
   "mimetype": "text/x-python",
   "name": "python",
   "nbconvert_exporter": "python",
   "pygments_lexer": "ipython3",
   "version": "3.8.8"
  }
 },
 "nbformat": 4,
 "nbformat_minor": 5
}
