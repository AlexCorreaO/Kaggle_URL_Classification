{
 "cells": [
  {
   "cell_type": "markdown",
   "id": "7ecbade6",
   "metadata": {},
   "source": [
    "### Àlex Correa Orri 1564967"
   ]
  },
  {
   "cell_type": "markdown",
   "id": "b7093714",
   "metadata": {},
   "source": [
    "#### Dataset: https://www.kaggle.com/shaurov/website-classification-using-url"
   ]
  },
  {
   "cell_type": "code",
   "execution_count": 1,
   "id": "4b47eb79",
   "metadata": {
    "scrolled": true
   },
   "outputs": [
    {
     "name": "stdout",
     "output_type": "stream",
     "text": [
      "Once deleted, variables cannot be recovered. Proceed (y/[n])? y\n",
      "Don't know how to reset  (), please run `%reset?` for details\n"
     ]
    }
   ],
   "source": [
    "reset()"
   ]
  },
  {
   "cell_type": "markdown",
   "id": "8769564d",
   "metadata": {},
   "source": [
    "### MÒDULS I LLIBRERIES"
   ]
  },
  {
   "cell_type": "code",
   "execution_count": 2,
   "id": "c5fc7bf5",
   "metadata": {},
   "outputs": [],
   "source": [
    "from sklearn.datasets import make_regression\n",
    "import numpy as np\n",
    "import pandas as pd\n",
    "from matplotlib import pyplot as plt\n",
    "import scipy.stats\n",
    "import os\n",
    "import seaborn as sns\n",
    "from scipy.stats import shapiro, spearmanr\n",
    "import math\n",
    "import sklearn\n",
    "from sklearn import metrics\n",
    "from sklearn.linear_model import LinearRegression\n",
    "from sklearn.metrics import r2_score\n",
    "import ipympl\n",
    "from sklearn.linear_model import LogisticRegression\n",
    "from sklearn import svm, datasets\n",
    "from sklearn.model_selection import train_test_split\n",
    "from sklearn.linear_model import Perceptron\n",
    "from sklearn.naive_bayes import GaussianNB\n",
    "from sklearn.model_selection import cross_val_score\n",
    "from sklearn.tree import DecisionTreeRegressor\n",
    "from sklearn.tree import DecisionTreeClassifier\n",
    "from sklearn.neighbors import KNeighborsClassifier\n",
    "from sklearn.ensemble import BaggingClassifier\n",
    "from sklearn.ensemble import RandomForestClassifier\n",
    "from sklearn import metrics\n",
    "from sklearn.ensemble import AdaBoostClassifier\n",
    "from sklearn.metrics import classification_report\n",
    "from sklearn.model_selection import LeaveOneOut\n",
    "from sklearn.metrics import classification_report\n",
    "from sklearn.metrics import f1_score, precision_recall_curve, average_precision_score, roc_curve, auc\n",
    "from sklearn.feature_extraction.text import CountVectorizer\n",
    "from sklearn.neural_network import MLPClassifier\n",
    "from sklearn.naive_bayes import MultinomialNB\n",
    "%matplotlib widget\n",
    "import warnings\n",
    "warnings.filterwarnings('ignore')"
   ]
  },
  {
   "cell_type": "markdown",
   "id": "41a80f7f",
   "metadata": {},
   "source": [
    "### DIRECTORI DE TREBALL"
   ]
  },
  {
   "cell_type": "code",
   "execution_count": 3,
   "id": "3e3815ad",
   "metadata": {},
   "outputs": [
    {
     "data": {
      "text/plain": [
       "'C:\\\\Users\\\\alexc\\\\OneDrive\\\\Escritorio\\\\UNI\\\\3er\\\\Aprenentatge Computacional\\\\PRAC_KAGGLE'"
      ]
     },
     "execution_count": 3,
     "metadata": {},
     "output_type": "execute_result"
    }
   ],
   "source": [
    "os.getcwd()\n",
    "path = 'C:/Users/alexc/OneDrive/Escritorio/UNI/3er/Aprenentatge Computacional/PRAC_KAGGLE'\n",
    "os.chdir(path)\n",
    "os.getcwd()\n",
    "# Visualitzarem només 3 decimals per mostra\n",
    "#pd.set_option('display.float_format', lambda x: '%.3f' % x)"
   ]
  },
  {
   "cell_type": "markdown",
   "id": "295c0b19",
   "metadata": {},
   "source": [
    "### LECTURA DE DADES"
   ]
  },
  {
   "cell_type": "code",
   "execution_count": 4,
   "id": "c10877a5",
   "metadata": {},
   "outputs": [],
   "source": [
    "# Carreguem dataset d'exemple\n",
    "dataset = pd.read_csv('URL_Classification.csv', names=['n', 'url', 'class'], delimiter=',')"
   ]
  },
  {
   "cell_type": "code",
   "execution_count": 5,
   "id": "ce55b538",
   "metadata": {},
   "outputs": [],
   "source": [
    "dataset=dataset.dropna()"
   ]
  },
  {
   "cell_type": "markdown",
   "id": "40f48377",
   "metadata": {},
   "source": [
    "### MODIFICACIÓ DEL DATASET"
   ]
  },
  {
   "cell_type": "code",
   "execution_count": 6,
   "id": "dc07f7f2",
   "metadata": {},
   "outputs": [],
   "source": [
    "dataset = dataset.drop(['n'], axis=1)"
   ]
  },
  {
   "cell_type": "code",
   "execution_count": 7,
   "id": "5b877372",
   "metadata": {
    "scrolled": true
   },
   "outputs": [
    {
     "name": "stdout",
     "output_type": "stream",
     "text": [
      "['Adult' 'Arts' 'Business' 'Computers' 'Games' 'Health' 'Home' 'Kids'\n",
      " 'News' 'Recreation' 'Reference' 'Science' 'Shopping' 'Society' 'Sports']\n"
     ]
    },
    {
     "data": {
      "text/plain": [
       "15"
      ]
     },
     "execution_count": 7,
     "metadata": {},
     "output_type": "execute_result"
    }
   ],
   "source": [
    "print(dataset['class'].unique())\n",
    "len(dataset['class'].unique())"
   ]
  },
  {
   "cell_type": "markdown",
   "id": "64414ba4",
   "metadata": {},
   "source": [
    "#### Per a fer proves reduim el sample a s dades"
   ]
  },
  {
   "cell_type": "code",
   "execution_count": 8,
   "id": "07b9419d",
   "metadata": {},
   "outputs": [],
   "source": [
    "s=1000000\n",
    "dataset1 = dataset.sample(n=s, random_state=10)"
   ]
  },
  {
   "cell_type": "code",
   "execution_count": 9,
   "id": "e75bd499",
   "metadata": {},
   "outputs": [],
   "source": [
    "dataset1 = dataset"
   ]
  },
  {
   "cell_type": "code",
   "execution_count": 10,
   "id": "345463f6",
   "metadata": {
    "scrolled": true
   },
   "outputs": [
    {
     "name": "stdout",
     "output_type": "stream",
     "text": [
      "['Adult' 'Arts' 'Business' 'Computers' 'Games' 'Health' 'Home' 'Kids'\n",
      " 'News' 'Recreation' 'Reference' 'Science' 'Shopping' 'Society' 'Sports']\n"
     ]
    },
    {
     "data": {
      "text/plain": [
       "15"
      ]
     },
     "execution_count": 10,
     "metadata": {},
     "output_type": "execute_result"
    }
   ],
   "source": [
    "print(dataset1['class'].unique())\n",
    "len(dataset1['class'].unique())"
   ]
  },
  {
   "cell_type": "code",
   "execution_count": 11,
   "id": "0d62606a",
   "metadata": {
    "scrolled": true
   },
   "outputs": [],
   "source": [
    "#dataset1"
   ]
  },
  {
   "cell_type": "markdown",
   "id": "3a70c0bf",
   "metadata": {},
   "source": [
    "#### Consultem quines són les paraules més comunes als url del dataset"
   ]
  },
  {
   "cell_type": "code",
   "execution_count": 12,
   "id": "16643b50",
   "metadata": {
    "scrolled": true
   },
   "outputs": [],
   "source": [
    "#dataset1"
   ]
  },
  {
   "cell_type": "code",
   "execution_count": 13,
   "id": "905e3a31",
   "metadata": {},
   "outputs": [],
   "source": [
    "urls=''\n",
    "for url in dataset1['url']:\n",
    "    urls += url\n",
    "#urls: text concatenat amb tots els strings (sense espais)"
   ]
  },
  {
   "cell_type": "code",
   "execution_count": 14,
   "id": "aebc7f50",
   "metadata": {
    "scrolled": true
   },
   "outputs": [
    {
     "data": {
      "text/html": [
       "<div>\n",
       "<style scoped>\n",
       "    .dataframe tbody tr th:only-of-type {\n",
       "        vertical-align: middle;\n",
       "    }\n",
       "\n",
       "    .dataframe tbody tr th {\n",
       "        vertical-align: top;\n",
       "    }\n",
       "\n",
       "    .dataframe thead th {\n",
       "        text-align: right;\n",
       "    }\n",
       "</style>\n",
       "<table border=\"1\" class=\"dataframe\">\n",
       "  <thead>\n",
       "    <tr style=\"text-align: right;\">\n",
       "      <th></th>\n",
       "      <th>00</th>\n",
       "      <th>000</th>\n",
       "      <th>0000</th>\n",
       "      <th>000000</th>\n",
       "      <th>0000000000000000039176http</th>\n",
       "      <th>0000000000000000044918http</th>\n",
       "      <th>00000000002000000003470010http</th>\n",
       "      <th>0000000023http</th>\n",
       "      <th>0000000045http</th>\n",
       "      <th>0000000053ad</th>\n",
       "      <th>...</th>\n",
       "      <th>zzzfelis</th>\n",
       "      <th>zzzgeminiclubsa</th>\n",
       "      <th>zzzlocalsites</th>\n",
       "      <th>zzzptm</th>\n",
       "      <th>zzzsen9ya7c</th>\n",
       "      <th>zzzuzruzglc</th>\n",
       "      <th>zzzv7313hlc</th>\n",
       "      <th>zzzweb</th>\n",
       "      <th>zzzwnppl</th>\n",
       "      <th>zzzzphoecolontradeposts</th>\n",
       "    </tr>\n",
       "  </thead>\n",
       "  <tbody>\n",
       "    <tr>\n",
       "      <th>0</th>\n",
       "      <td>682</td>\n",
       "      <td>69</td>\n",
       "      <td>11</td>\n",
       "      <td>1</td>\n",
       "      <td>1</td>\n",
       "      <td>1</td>\n",
       "      <td>1</td>\n",
       "      <td>1</td>\n",
       "      <td>1</td>\n",
       "      <td>1</td>\n",
       "      <td>...</td>\n",
       "      <td>1</td>\n",
       "      <td>1</td>\n",
       "      <td>3</td>\n",
       "      <td>2</td>\n",
       "      <td>1</td>\n",
       "      <td>1</td>\n",
       "      <td>1</td>\n",
       "      <td>1</td>\n",
       "      <td>1</td>\n",
       "      <td>1</td>\n",
       "    </tr>\n",
       "  </tbody>\n",
       "</table>\n",
       "<p>1 rows × 1298570 columns</p>\n",
       "</div>"
      ],
      "text/plain": [
       "    00  000  0000  000000  0000000000000000039176http  \\\n",
       "0  682   69    11       1                           1   \n",
       "\n",
       "   0000000000000000044918http  00000000002000000003470010http  0000000023http  \\\n",
       "0                           1                               1               1   \n",
       "\n",
       "   0000000045http  0000000053ad  ...  zzzfelis  zzzgeminiclubsa  \\\n",
       "0               1             1  ...         1                1   \n",
       "\n",
       "   zzzlocalsites  zzzptm  zzzsen9ya7c  zzzuzruzglc  zzzv7313hlc  zzzweb  \\\n",
       "0              3       2            1            1            1       1   \n",
       "\n",
       "   zzzwnppl  zzzzphoecolontradeposts  \n",
       "0         1                        1  \n",
       "\n",
       "[1 rows x 1298570 columns]"
      ]
     },
     "execution_count": 14,
     "metadata": {},
     "output_type": "execute_result"
    }
   ],
   "source": [
    "vect = CountVectorizer()\n",
    "mat = vect.fit_transform([urls])\n",
    "mat\n",
    "counts = pd.DataFrame(mat.toarray(), columns=vect.get_feature_names())\n",
    "counts #pandas dataframe amb els valors de les paraules més comunes al string"
   ]
  },
  {
   "cell_type": "code",
   "execution_count": 15,
   "id": "8b53e27d",
   "metadata": {},
   "outputs": [],
   "source": [
    "sort_counts = counts.sort_values(by =0, axis=1)\n",
    "sort_counts = sort_counts[sort_counts.columns[::-1]]"
   ]
  },
  {
   "cell_type": "code",
   "execution_count": 16,
   "id": "2468c6e7",
   "metadata": {
    "scrolled": true
   },
   "outputs": [
    {
     "data": {
      "text/html": [
       "<div>\n",
       "<style scoped>\n",
       "    .dataframe tbody tr th:only-of-type {\n",
       "        vertical-align: middle;\n",
       "    }\n",
       "\n",
       "    .dataframe tbody tr th {\n",
       "        vertical-align: top;\n",
       "    }\n",
       "\n",
       "    .dataframe thead th {\n",
       "        text-align: right;\n",
       "    }\n",
       "</style>\n",
       "<table border=\"1\" class=\"dataframe\">\n",
       "  <thead>\n",
       "    <tr style=\"text-align: right;\">\n",
       "      <th></th>\n",
       "      <th>www</th>\n",
       "      <th>http</th>\n",
       "      <th>com</th>\n",
       "      <th>comhttp</th>\n",
       "      <th>org</th>\n",
       "      <th>htmlhttp</th>\n",
       "      <th>htmhttp</th>\n",
       "      <th>edu</th>\n",
       "      <th>co</th>\n",
       "      <th>uk</th>\n",
       "      <th>...</th>\n",
       "      <th>newyorksurveyrepair</th>\n",
       "      <th>newyorktattoo</th>\n",
       "      <th>newyorkvideoconference</th>\n",
       "      <th>newyorktwistdrill</th>\n",
       "      <th>newyorkultimate</th>\n",
       "      <th>newyorkultrarunning</th>\n",
       "      <th>newyorkun</th>\n",
       "      <th>newyorkunicycle</th>\n",
       "      <th>newyorkvideo</th>\n",
       "      <th>jumpinghfarm</th>\n",
       "    </tr>\n",
       "  </thead>\n",
       "  <tbody>\n",
       "    <tr>\n",
       "      <th>0</th>\n",
       "      <td>1255832</td>\n",
       "      <td>860869</td>\n",
       "      <td>780805</td>\n",
       "      <td>191765</td>\n",
       "      <td>185544</td>\n",
       "      <td>171948</td>\n",
       "      <td>113603</td>\n",
       "      <td>86651</td>\n",
       "      <td>71265</td>\n",
       "      <td>69722</td>\n",
       "      <td>...</td>\n",
       "      <td>1</td>\n",
       "      <td>1</td>\n",
       "      <td>1</td>\n",
       "      <td>1</td>\n",
       "      <td>1</td>\n",
       "      <td>1</td>\n",
       "      <td>1</td>\n",
       "      <td>1</td>\n",
       "      <td>1</td>\n",
       "      <td>1</td>\n",
       "    </tr>\n",
       "  </tbody>\n",
       "</table>\n",
       "<p>1 rows × 1298570 columns</p>\n",
       "</div>"
      ],
      "text/plain": [
       "       www    http     com  comhttp     org  htmlhttp  htmhttp    edu     co  \\\n",
       "0  1255832  860869  780805   191765  185544    171948   113603  86651  71265   \n",
       "\n",
       "      uk  ...  newyorksurveyrepair  newyorktattoo  newyorkvideoconference  \\\n",
       "0  69722  ...                    1              1                       1   \n",
       "\n",
       "   newyorktwistdrill  newyorkultimate  newyorkultrarunning  newyorkun  \\\n",
       "0                  1                1                    1          1   \n",
       "\n",
       "   newyorkunicycle  newyorkvideo  jumpinghfarm  \n",
       "0                1             1             1  \n",
       "\n",
       "[1 rows x 1298570 columns]"
      ]
     },
     "execution_count": 16,
     "metadata": {},
     "output_type": "execute_result"
    }
   ],
   "source": [
    "sort_counts #dataframe ordenat per la paraula més comuna"
   ]
  },
  {
   "cell_type": "code",
   "execution_count": 17,
   "id": "f82e4227",
   "metadata": {
    "scrolled": true
   },
   "outputs": [
    {
     "data": {
      "text/plain": [
       "Index(['www', 'http', 'com', 'comhttp', 'org', 'htmlhttp', 'htmhttp', 'edu',\n",
       "       'co', 'uk', 'net', 'geocities', 'index', 'amp', 'orghttp', 'ca',\n",
       "       'tripod', 'angelfire', 'au', 'ukhttp', 'home', 'ac', 'gov', 'de', 'us',\n",
       "       'newadvent', 'cathen', 'members', 'nethttp', 'php', 'id', 'en', 'imdb',\n",
       "       'yahoo', 'html', 'asp', 'shtmlhttp', 'cgi', 'reviews', 'groups',\n",
       "       'group', 'nl', 'news', 'sports', 'asphttp', 'movies', 'wiki', 'title',\n",
       "       'wikipedia', 'free', 'phphttp', 'it', 'users', 'library', 'jp', 'info',\n",
       "       'article', 'freewebs', 'articles', 'name', 'blogspot', 'fr', 'pc',\n",
       "       'bin', 'cs', 'auhttp', 'gamespot', 'games', 'athletics', 'nz', 'web',\n",
       "       'cfm', 'english', 'music', 'online', 'pdfhttp', 'tools', 'gamespy',\n",
       "       'bbc', 'default', 'ign', 'review', 'ietf', 'all', 'main', 'the',\n",
       "       'sourceforge', 'artists', 'homestead', 'sex', 'history', 'cahttp',\n",
       "       'objects', 'pages', 'archive', 'aspx', 'soups', 'recipes', 'about',\n",
       "       'ch'],\n",
       "      dtype='object')"
      ]
     },
     "execution_count": 17,
     "metadata": {},
     "output_type": "execute_result"
    }
   ],
   "source": [
    "sort_counts.iloc[:, : 100].columns"
   ]
  },
  {
   "cell_type": "code",
   "execution_count": 18,
   "id": "7b453e5c",
   "metadata": {},
   "outputs": [],
   "source": [
    "sort_counts_del = sort_counts\n",
    "sort_counts_del = sort_counts_del.drop(['www', 'http', 'com', 'comhttp', 'org', 'htmlhttp', 'htmhttp', 'edu', 'co', 'uk', 'net', 'orghttp','html','nethttp','shtmlhttp', 'ukhttp','dehttp','zahttp','jpghttp'], axis=1)"
   ]
  },
  {
   "cell_type": "code",
   "execution_count": 19,
   "id": "01aebde5",
   "metadata": {
    "scrolled": true
   },
   "outputs": [
    {
     "data": {
      "text/html": [
       "<div>\n",
       "<style scoped>\n",
       "    .dataframe tbody tr th:only-of-type {\n",
       "        vertical-align: middle;\n",
       "    }\n",
       "\n",
       "    .dataframe tbody tr th {\n",
       "        vertical-align: top;\n",
       "    }\n",
       "\n",
       "    .dataframe thead th {\n",
       "        text-align: right;\n",
       "    }\n",
       "</style>\n",
       "<table border=\"1\" class=\"dataframe\">\n",
       "  <thead>\n",
       "    <tr style=\"text-align: right;\">\n",
       "      <th></th>\n",
       "      <th>geocities</th>\n",
       "      <th>index</th>\n",
       "      <th>amp</th>\n",
       "      <th>ca</th>\n",
       "      <th>tripod</th>\n",
       "      <th>angelfire</th>\n",
       "      <th>au</th>\n",
       "      <th>home</th>\n",
       "      <th>ac</th>\n",
       "      <th>gov</th>\n",
       "      <th>...</th>\n",
       "      <th>feis</th>\n",
       "      <th>reports</th>\n",
       "      <th>ualberta</th>\n",
       "      <th>fda</th>\n",
       "      <th>pageid</th>\n",
       "      <th>acm</th>\n",
       "      <th>product</th>\n",
       "      <th>utk</th>\n",
       "      <th>bg</th>\n",
       "      <th>ukonline</th>\n",
       "    </tr>\n",
       "  </thead>\n",
       "  <tbody>\n",
       "    <tr>\n",
       "      <th>0</th>\n",
       "      <td>54132</td>\n",
       "      <td>47595</td>\n",
       "      <td>31260</td>\n",
       "      <td>22156</td>\n",
       "      <td>22001</td>\n",
       "      <td>20846</td>\n",
       "      <td>18691</td>\n",
       "      <td>14999</td>\n",
       "      <td>14174</td>\n",
       "      <td>14155</td>\n",
       "      <td>...</td>\n",
       "      <td>323</td>\n",
       "      <td>323</td>\n",
       "      <td>322</td>\n",
       "      <td>322</td>\n",
       "      <td>322</td>\n",
       "      <td>322</td>\n",
       "      <td>321</td>\n",
       "      <td>321</td>\n",
       "      <td>321</td>\n",
       "      <td>320</td>\n",
       "    </tr>\n",
       "  </tbody>\n",
       "</table>\n",
       "<p>1 rows × 1000 columns</p>\n",
       "</div>"
      ],
      "text/plain": [
       "   geocities  index    amp     ca  tripod  angelfire     au   home     ac  \\\n",
       "0      54132  47595  31260  22156   22001      20846  18691  14999  14174   \n",
       "\n",
       "     gov  ...  feis  reports  ualberta  fda  pageid  acm  product  utk   bg  \\\n",
       "0  14155  ...   323      323       322  322     322  322      321  321  321   \n",
       "\n",
       "   ukonline  \n",
       "0       320  \n",
       "\n",
       "[1 rows x 1000 columns]"
      ]
     },
     "execution_count": 19,
     "metadata": {},
     "output_type": "execute_result"
    }
   ],
   "source": [
    "sort_counts_del.iloc[:, : 1000]"
   ]
  },
  {
   "cell_type": "markdown",
   "id": "e8743b01",
   "metadata": {},
   "source": [
    "#### Utilitzarem les ... paraules més comunes (treient els www, http, com, org,...)"
   ]
  },
  {
   "cell_type": "code",
   "execution_count": 20,
   "id": "fb7f2db2",
   "metadata": {},
   "outputs": [],
   "source": [
    "words_def = list(sort_counts_del.iloc[:, : 889886].columns)\n",
    "#for w in words_def:\n",
    "#    if (('http' in w) or (len(w)<3)):\n",
    "#        words_def.remove(w)"
   ]
  },
  {
   "cell_type": "code",
   "execution_count": 21,
   "id": "b4f3d236",
   "metadata": {},
   "outputs": [
    {
     "data": {
      "text/plain": [
       "889886"
      ]
     },
     "execution_count": 21,
     "metadata": {},
     "output_type": "execute_result"
    }
   ],
   "source": [
    "len(words_def)"
   ]
  },
  {
   "cell_type": "code",
   "execution_count": 22,
   "id": "e5a19f0e",
   "metadata": {},
   "outputs": [],
   "source": [
    "#words_def"
   ]
  },
  {
   "cell_type": "code",
   "execution_count": 23,
   "id": "713dfe01",
   "metadata": {},
   "outputs": [],
   "source": [
    "url_vect = list(dataset1['url'])\n",
    "vectorizer = CountVectorizer()\n",
    "fit_vect = vectorizer.fit_transform(url_vect)\n",
    "\n",
    "#dataset1_word = pd.DataFrame(fit_vect.toarray(), columns=vectorizer.get_feature_names())"
   ]
  },
  {
   "cell_type": "code",
   "execution_count": 24,
   "id": "722144b0",
   "metadata": {},
   "outputs": [],
   "source": [
    "X = fit_vect\n",
    "y = dataset1['class']"
   ]
  },
  {
   "cell_type": "code",
   "execution_count": 30,
   "id": "5a8c02b6",
   "metadata": {},
   "outputs": [],
   "source": [
    "x_t, x_v, y_t, y_v = train_test_split(X, y, train_size=0.7)"
   ]
  },
  {
   "cell_type": "code",
   "execution_count": 31,
   "id": "9faf53b4",
   "metadata": {},
   "outputs": [
    {
     "data": {
      "text/plain": [
       "MultinomialNB()"
      ]
     },
     "execution_count": 31,
     "metadata": {},
     "output_type": "execute_result"
    }
   ],
   "source": [
    "clf = MultinomialNB()\n",
    "clf.fit(x_t, y_t)"
   ]
  },
  {
   "cell_type": "code",
   "execution_count": 33,
   "id": "5c483bd7",
   "metadata": {
    "scrolled": false
   },
   "outputs": [
    {
     "name": "stdout",
     "output_type": "stream",
     "text": [
      "              precision    recall  f1-score   support\n",
      "\n",
      "       Adult       0.99      0.21      0.34     10619\n",
      "        Arts       0.45      0.62      0.52     76199\n",
      "    Business       0.31      0.87      0.46     72080\n",
      "   Computers       0.83      0.20      0.32     35449\n",
      "       Games       0.77      0.37      0.50     16988\n",
      "      Health       0.92      0.12      0.21     18020\n",
      "        Home       0.99      0.21      0.35      8522\n",
      "        Kids       0.86      0.08      0.15     13718\n",
      "        News       0.00      0.00      0.00      2627\n",
      "  Recreation       0.80      0.06      0.11     32051\n",
      "   Reference       0.73      0.17      0.27     17332\n",
      "     Science       0.63      0.45      0.53     33078\n",
      "    Shopping       0.86      0.00      0.01     28547\n",
      "     Society       0.44      0.59      0.50     73409\n",
      "      Sports       0.91      0.29      0.43     30254\n",
      "\n",
      "    accuracy                           0.43    468893\n",
      "   macro avg       0.70      0.28      0.31    468893\n",
      "weighted avg       0.62      0.43      0.39    468893\n",
      "\n"
     ]
    }
   ],
   "source": [
    "target_names = np.unique(y_v)\n",
    "y_pred = clf.predict(x_v)\n",
    "print(classification_report(y_v, y_pred, target_names=target_names))"
   ]
  },
  {
   "cell_type": "code",
   "execution_count": null,
   "id": "3c4e3a0f",
   "metadata": {},
   "outputs": [],
   "source": []
  },
  {
   "cell_type": "code",
   "execution_count": null,
   "id": "d316cfcb",
   "metadata": {},
   "outputs": [],
   "source": [
    "clft = DecisionTreeClassifier(random_state=0, max_depth=100,min_samples_leaf=5,min_samples_split=10)\n",
    "clft.fit(x_t, y_t)"
   ]
  },
  {
   "cell_type": "code",
   "execution_count": null,
   "id": "0f58ec3e",
   "metadata": {},
   "outputs": [],
   "source": [
    "target_names = np.unique(y_v)\n",
    "y_pred = clft.predict(x_v)\n",
    "print(classification_report(y_v, y_pred, target_names=target_names))"
   ]
  },
  {
   "cell_type": "code",
   "execution_count": null,
   "id": "0526c8d5",
   "metadata": {},
   "outputs": [],
   "source": [
    "rfc = RandomForestClassifier(n_estimators=5,criterion='entropy',min_samples_split=5,min_samples_leaf=2,n_jobs=5)\n",
    "rfc.fit(x_t, y_t)"
   ]
  },
  {
   "cell_type": "code",
   "execution_count": null,
   "id": "4e7a4feb",
   "metadata": {},
   "outputs": [],
   "source": [
    "y_pred = rfc.predict(x_v)\n",
    "print(classification_report(y_v, y_pred, target_names=target_names))"
   ]
  },
  {
   "cell_type": "code",
   "execution_count": null,
   "id": "7eacdda7",
   "metadata": {
    "scrolled": true
   },
   "outputs": [],
   "source": [
    "mpl = MLPClassifier()\n",
    "mpl.fit(x_t, y_t)\n",
    "round(mpl.score(x_v, y_v),2)"
   ]
  },
  {
   "cell_type": "code",
   "execution_count": null,
   "id": "da45ffa8",
   "metadata": {},
   "outputs": [],
   "source": []
  },
  {
   "cell_type": "code",
   "execution_count": null,
   "id": "b8683885",
   "metadata": {},
   "outputs": [],
   "source": []
  }
 ],
 "metadata": {
  "kernelspec": {
   "display_name": "Python 3",
   "language": "python",
   "name": "python3"
  },
  "language_info": {
   "codemirror_mode": {
    "name": "ipython",
    "version": 3
   },
   "file_extension": ".py",
   "mimetype": "text/x-python",
   "name": "python",
   "nbconvert_exporter": "python",
   "pygments_lexer": "ipython3",
   "version": "3.8.8"
  }
 },
 "nbformat": 4,
 "nbformat_minor": 5
}
